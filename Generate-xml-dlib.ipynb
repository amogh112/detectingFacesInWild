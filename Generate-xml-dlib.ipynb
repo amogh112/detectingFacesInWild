{
 "cells": [
  {
   "cell_type": "markdown",
   "metadata": {},
   "source": [
    "# Script to detect faces using dlib."
   ]
  },
  {
   "cell_type": "markdown",
   "metadata": {},
   "source": [
    "### Importing libraries"
   ]
  },
  {
   "cell_type": "code",
   "execution_count": 1,
   "metadata": {},
   "outputs": [],
   "source": [
    "import gc\n",
    "import os\n",
    "import sys\n",
    "import math\n",
    "import glob\n",
    "import tqdm\n",
    "import random\n",
    "import numpy as np\n",
    "from tqdm import tqdm\n",
    "from time import sleep"
   ]
  },
  {
   "cell_type": "code",
   "execution_count": 2,
   "metadata": {},
   "outputs": [],
   "source": [
    "import pandas as pd\n",
    "import xml.etree.cElementTree as ET"
   ]
  },
  {
   "cell_type": "code",
   "execution_count": 3,
   "metadata": {},
   "outputs": [],
   "source": [
    "import cv2\n",
    "import dlib\n",
    "from imutils import face_utils\n",
    "from skimage.feature import hog\n",
    "from skimage import data,exposure"
   ]
  },
  {
   "cell_type": "markdown",
   "metadata": {},
   "source": [
    "### Defining paths"
   ]
  },
  {
   "cell_type": "code",
   "execution_count": 4,
   "metadata": {},
   "outputs": [],
   "source": [
    "path_folder_all_frames = '/media/amogh/Stuff/CMU/datasets/bagamoyo_data/bagamoyo_frames_all_in_one'"
   ]
  },
  {
   "cell_type": "code",
   "execution_count": 5,
   "metadata": {},
   "outputs": [],
   "source": [
    "path_folder = '/media/amogh/Stuff/CMU/datasets/bagamoyo_data/bagamoyo_frames_folder_wise'"
   ]
  },
  {
   "cell_type": "markdown",
   "metadata": {},
   "source": [
    "## Write an xml file, given the folder of images and path for detector(optional)"
   ]
  },
  {
   "cell_type": "markdown",
   "metadata": {},
   "source": [
    "### Generating an xml file"
   ]
  },
  {
   "cell_type": "code",
   "execution_count": 45,
   "metadata": {},
   "outputs": [],
   "source": [
    "def writeXMLForDetectedFaces(path_folder_of_folders_of_images, detector,predictor, output_file_name = 'output',isCNN=False):\n",
    "    \"\"\"\n",
    "    writes XML after detecting faces given source folder of video folders containing image frames, a landmark predictor and a face detector\n",
    "    \"\"\"\n",
    "    \n",
    "    #Writing an XML\n",
    "    root = ET.Element(\"dataset\")\n",
    "    name = ET.SubElement(root, \"name\").text = \"Labelled faces\"\n",
    "    comment = ET.SubElement(root, \"comment\").text = \"These are labelled images from Bagamoyo\"\n",
    "    images = ET.SubElement(root, \"images\")\n",
    "    \n",
    "    list_folder_images = glob.glob(path_folder_of_folders_of_images + '/*')\n",
    "    print(\"Number of folders found in the folder are: \", len(list_folder_images))\n",
    "    for vid_no,vid_folder in enumerate(list_folder_images):\n",
    "        list_path_frames = glob.glob(vid_folder+'/*')\n",
    "        print(\"Number of images found in the folder number {}, {} are: \".format(vid_no,vid_folder), len(list_path_frames))\n",
    "        try:\n",
    "            for path_frame in list_path_frames:\n",
    "                #add image to images in XML\n",
    "                image_node = ET.SubElement(images, \"image\", file=path_frame.split('/')[-1])\n",
    "#                 print(path_frame)\n",
    "#             try:\n",
    "                image=cv2.imread(path_frame)\n",
    "                gray=cv2.cvtColor(image,cv2.COLOR_BGR2GRAY)\n",
    "                    \n",
    "                if(isCNN):\n",
    "                    dets = detector(gray,1)\n",
    "                    rects = dlib.rectangles()\n",
    "                    rects.extend([d.rect for d in dets])\n",
    "                else:\n",
    "                    rects = detector(gray,1)\n",
    "                for i,rect in enumerate(rects):                    \n",
    "                    shape = predictor(gray, rect)\n",
    "                    shape = face_utils.shape_to_np(shape)\n",
    "                    (x, y, w, h) = face_utils.rect_to_bb(rect)\n",
    "                    #add box to image in XML\n",
    "#                     print(x,y,w,h)\n",
    "                    box = ET.SubElement(image_node, \"box\", height=str(h), left=str(x), top=str(y), width=str(w))\n",
    "                #write XML\n",
    "            tree = ET.ElementTree(root)\n",
    "            dest_name = output_file_name+str(vid_no)+'.xml'\n",
    "            tree.write(dest_name)\n",
    "            print(\"xml written to {}\".format(dest_name))            \n",
    "        except KeyboardInterrupt:\n",
    "            break\n",
    "        except:\n",
    "            continue\n",
    "    \n",
    "        \n"
   ]
  },
  {
   "cell_type": "code",
   "execution_count": 46,
   "metadata": {},
   "outputs": [],
   "source": [
    "def saveXMLForHOGDetector(path_folder_of_folders_of_images,output_file_name='output'):\n",
    "    args={\"shape_predictor\":\"shape_predictor_68_face_landmarks.dat\"}\n",
    "    detector = dlib.get_frontal_face_detector()\n",
    "    predictor = dlib.shape_predictor(args[\"shape_predictor\"])\n",
    "    writeXMLForDetectedFaces(path_folder_of_folders_of_images=path_folder_of_folders_of_images, detector=detector,predictor=predictor,output_file_name = output_file_name)"
   ]
  },
  {
   "cell_type": "code",
   "execution_count": 47,
   "metadata": {},
   "outputs": [],
   "source": [
    "def saveXMLForCNNDetector(path_folder_of_folders_of_images,output_file_name='output'):\n",
    "    args={\"shape_predictor\":\"shape_predictor_68_face_landmarks.dat\"}\n",
    "    detector = dlib.cnn_face_detection_model_v1('mmod_human_face_detector.dat')\n",
    "    predictor = dlib.shape_predictor(args[\"shape_predictor\"])\n",
    "    writeXMLForDetectedFaces(path_folder_of_folders_of_images=path_folder_of_folders_of_images, detector=detector,predictor=predictor,output_file_name = output_file_name,isCNN=True)"
   ]
  },
  {
   "cell_type": "code",
   "execution_count": null,
   "metadata": {
    "scrolled": false
   },
   "outputs": [],
   "source": [
    "saveXMLForHOGDetector(path_folder,'hog_output')"
   ]
  },
  {
   "cell_type": "code",
   "execution_count": 13,
   "metadata": {
    "scrolled": true
   },
   "outputs": [
    {
     "name": "stdout",
     "output_type": "stream",
     "text": [
      "('Number of folders found in the folder are: ', 524)\n",
      "('Number of images found in the folder number 0, /media/amogh/Stuff/CMU/datasets/bagamoyo_data/bagamoyo_frames_folder_wise/VIDEO_00-male-surprise_20180516_091529_219393302 (5-29-2018 10-29-50 AM) are: ', 104)\n",
      "(-2L, 303L, 423L, 423L)\n",
      "(1025L, 646L, 423L, 422L)\n",
      "(1025L, 646L, 423L, 422L)\n",
      "(-2L, 346L, 423L, 423L)\n",
      "('Number of images found in the folder number 1, /media/amogh/Stuff/CMU/datasets/bagamoyo_data/bagamoyo_frames_folder_wise/VIDEO_00-male-surprise_20180516_091541_1754978908 (5-27-2018 5-58-50 AM) are: ', 107)\n",
      "(1025L, 646L, 423L, 422L)\n",
      "(-79L, 262L, 507L, 507L)\n",
      "(1025L, 646L, 423L, 422L)\n",
      "(-79L, 262L, 507L, 507L)\n",
      "xml written to cnn_output.xml\n"
     ]
    }
   ],
   "source": [
    "saveXMLForCNNDetector(path_folder,'cnn_output')"
   ]
  },
  {
   "cell_type": "code",
   "execution_count": 12,
   "metadata": {
    "scrolled": true
   },
   "outputs": [],
   "source": [
    "cnn_face_detector = dlib.cnn_face_detection_model_v1('mmod_human_face_detector.dat')"
   ]
  },
  {
   "cell_type": "code",
   "execution_count": null,
   "metadata": {},
   "outputs": [],
   "source": [
    "writeXMLForDetectedFaces()"
   ]
  }
 ],
 "metadata": {
  "kernelspec": {
   "display_name": "Python 2",
   "language": "python",
   "name": "python2"
  },
  "language_info": {
   "codemirror_mode": {
    "name": "ipython",
    "version": 2
   },
   "file_extension": ".py",
   "mimetype": "text/x-python",
   "name": "python",
   "nbconvert_exporter": "python",
   "pygments_lexer": "ipython2",
   "version": "2.7.14"
  }
 },
 "nbformat": 4,
 "nbformat_minor": 2
}
