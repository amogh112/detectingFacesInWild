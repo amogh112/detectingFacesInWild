{
 "cells": [
  {
   "cell_type": "markdown",
   "metadata": {},
   "source": [
    "# Sandbox notebook"
   ]
  },
  {
   "cell_type": "code",
   "execution_count": 1,
   "metadata": {},
   "outputs": [],
   "source": [
    "import gc\n",
    "import os\n",
    "import sys\n",
    "import math\n",
    "import glob\n",
    "import tqdm\n",
    "import random\n",
    "import numpy as np\n",
    "from tqdm import tqdm\n",
    "from time import sleep"
   ]
  },
  {
   "cell_type": "code",
   "execution_count": 2,
   "metadata": {},
   "outputs": [],
   "source": [
    "import pandas as pd\n",
    "import xml.etree.cElementTree as ET"
   ]
  },
  {
   "cell_type": "code",
   "execution_count": 3,
   "metadata": {},
   "outputs": [],
   "source": [
    "import cv2\n",
    "import dlib\n",
    "from imutils import face_utils\n",
    "from skimage.feature import hog\n",
    "from skimage import data,exposure"
   ]
  },
  {
   "cell_type": "markdown",
   "metadata": {},
   "source": [
    "## Aggregating OpenFace csv to xml"
   ]
  },
  {
   "cell_type": "code",
   "execution_count": 4,
   "metadata": {},
   "outputs": [],
   "source": [
    "path_openface_data = '/media/amogh/Stuff/oface'"
   ]
  },
  {
   "cell_type": "code",
   "execution_count": 6,
   "metadata": {},
   "outputs": [
    {
     "name": "stdout",
     "output_type": "stream",
     "text": [
      "18235.xml\t\t\t initial_openface.xml\r\n",
      "cnn_output.xml\t\t\t openface_166_folders_75_confidence.xml\r\n",
      "dlib_hog_output_232_folders.xml  openface_166_folders_85_confidence.xml\r\n",
      "hog_output230.xml\t\t openface_166_folders.xml\r\n",
      "hog_output231.xml\t\t zface-output.xml\r\n"
     ]
    }
   ],
   "source": [
    "!ls output_XML/"
   ]
  },
  {
   "cell_type": "code",
   "execution_count": 7,
   "metadata": {},
   "outputs": [],
   "source": [
    "def getXMLFromOpenFaceData(path_folder_openface_data, conf, path_output_xml = 'output_XML/'):\n",
    "    \"\"\"\n",
    "    Generates XML data file from a folder containing the output csv files from OpenFace.\n",
    "    \"\"\"\n",
    "    \n",
    "    list_csv_files = glob.glob(path_folder_openface_data + '/*.csv')\n",
    "    \n",
    "    #Generate XML file.\n",
    "    root = ET.Element(\"dataset\")\n",
    "    name = ET.SubElement(root, \"name\").text = \"Labelled faces\"\n",
    "    comment = ET.SubElement(root, \"comment\").text = \"These are labelled images from Bagamoyo\"\n",
    "    images = ET.SubElement(root, \"images\")\n",
    "    # Read csv file and populate the XML data.\n",
    "    for path_csv in tqdm(list_csv_files):\n",
    "        name_video = os.path.splitext(os.path.basename(path_csv))[0]\n",
    "        df_data = pd.read_csv(path_csv)\n",
    "        \n",
    "        # Iterate over each frame in this video's output\n",
    "        for index, row in df_data.iterrows():\n",
    "            #define the image node for which box will be a child.\n",
    "            frame_num = row.frame\n",
    "            image_node_file_name = name_video + \" \" + \"%03d\"%frame_num + \".jpg\"\n",
    "            confidence = row[\" confidence\"]\n",
    "#             print(confidence)\n",
    "            image_node=None\n",
    "            #check if the attribute for frame already exists, create if not.\n",
    "            for image_elem in images.findall('image'):\n",
    "                file_name = image_elem.get('file')\n",
    "                if(file_name == image_node_file_name):\n",
    "                    image_node = image_elem\n",
    "                    print(\"found\")\n",
    "            if(image_node is None):\n",
    "                image_node = ET.SubElement(images, \"image\", file=image_node_file_name)\n",
    "                \n",
    "            #get box coordinates\n",
    "            list_x_coord_landmarks = list(row[' x_0':' x_67']) \n",
    "            list_y_coord_landmarks = list(row[' y_0':' y_67'])\n",
    "            left = int(min(list_x_coord_landmarks))\n",
    "            right = int(max(list_x_coord_landmarks))\n",
    "            top = int(min(list_y_coord_landmarks))\n",
    "            bottom = int(max(list_y_coord_landmarks))\n",
    "            width = right - left\n",
    "            height = bottom - top\n",
    "            #add box node\n",
    "            if(confidence > conf):\n",
    "                box = ET.SubElement(image_node, \"box\", height=str(height), left=str(left), top=str(top), width=str(width))\n",
    "    \n",
    "    #save the XML\n",
    "    tree = ET.ElementTree(root)\n",
    "    dest_name = path_output_xml + 'openface_{}_folders_{}_confidence.xml'.format(len(list_csv_files),int(100*conf))\n",
    "    tree.write(dest_name)\n",
    "    print(\"xml written to {}\".format(dest_name))  "
   ]
  },
  {
   "cell_type": "code",
   "execution_count": null,
   "metadata": {},
   "outputs": [],
   "source": [
    "getXMLFromOpenFaceData(path_openface_data,0.85)  "
   ]
  },
  {
   "cell_type": "code",
   "execution_count": null,
   "metadata": {},
   "outputs": [],
   "source": [
    "getXMLFromOpenFaceData('try')"
   ]
  },
  {
   "cell_type": "code",
   "execution_count": 13,
   "metadata": {
    "scrolled": true
   },
   "outputs": [
    {
     "name": "stderr",
     "output_type": "stream",
     "text": [
      "100%|██████████| 168/168 [01:13<00:00,  2.29it/s]\n"
     ]
    },
    {
     "name": "stdout",
     "output_type": "stream",
     "text": [
      "xml written to output_XML/openface_168_folders_85_confidence.xml\n"
     ]
    }
   ],
   "source": [
    "path_openface_cnn_data = \"/media/amogh/Stuff/OpenFace_Outputs/Openface_outputs/new_oface_cnn_detector/\"\n",
    "getXMLFromOpenFaceData(path_openface_cnn_data,0.85)"
   ]
  },
  {
   "cell_type": "code",
   "execution_count": 14,
   "metadata": {},
   "outputs": [
    {
     "name": "stderr",
     "output_type": "stream",
     "text": [
      "100%|██████████| 168/168 [01:10<00:00,  2.38it/s]\n"
     ]
    },
    {
     "name": "stdout",
     "output_type": "stream",
     "text": [
      "xml written to output_XML/openface_168_folders_85_confidence.xml\n"
     ]
    }
   ],
   "source": [
    "path_openface_dlib_data = \"/media/amogh/Stuff/OpenFace_Outputs/Openface_outputs/new_oface_dlib_detector/\"\n",
    "getXMLFromOpenFaceData(path_openface_dlib_data,0.85)"
   ]
  },
  {
   "cell_type": "code",
   "execution_count": null,
   "metadata": {},
   "outputs": [],
   "source": []
  },
  {
   "cell_type": "code",
   "execution_count": 34,
   "metadata": {},
   "outputs": [
    {
     "name": "stdout",
     "output_type": "stream",
     "text": [
      "[<Element 'name' at 0x7f001761a720>, <Element 'name' at 0x7f001761a7e0>]\n"
     ]
    }
   ],
   "source": [
    "def debug():\n",
    "    root = ET.Element(\"dataset\")\n",
    "    name = ET.SubElement(root, \"name\", file='a')\n",
    "#     name = ET.SubElement(root, \"name\", file='a')\n",
    "    name = ET.SubElement(root, \"name\", file='a')\n",
    "    print([a for a in root])\n",
    "    tree = ET.ElementTree(root)\n",
    "    tree.write('try.xml')\n",
    "debug()"
   ]
  },
  {
   "cell_type": "code",
   "execution_count": null,
   "metadata": {},
   "outputs": [],
   "source": []
  }
 ],
 "metadata": {
  "kernelspec": {
   "display_name": "Python 2",
   "language": "python",
   "name": "python2"
  },
  "language_info": {
   "codemirror_mode": {
    "name": "ipython",
    "version": 2
   },
   "file_extension": ".py",
   "mimetype": "text/x-python",
   "name": "python",
   "nbconvert_exporter": "python",
   "pygments_lexer": "ipython2",
   "version": "2.7.14"
  }
 },
 "nbformat": 4,
 "nbformat_minor": 2
}
