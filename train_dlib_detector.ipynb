{
 "cells": [
  {
   "cell_type": "code",
   "execution_count": 4,
   "metadata": {},
   "outputs": [],
   "source": [
    "import os\n",
    "import sys\n",
    "import math\n",
    "import glob\n",
    "import tqdm\n",
    "import random\n",
    "import numpy as np\n",
    "from tqdm import tqdm\n",
    "from time import sleep"
   ]
  },
  {
   "cell_type": "code",
   "execution_count": 5,
   "metadata": {},
   "outputs": [],
   "source": [
    "import pandas as pd\n",
    "import xml.etree.cElementTree as ET"
   ]
  },
  {
   "cell_type": "code",
   "execution_count": 6,
   "metadata": {},
   "outputs": [],
   "source": [
    "import cv2\n",
    "import dlib\n",
    "from imutils import face_utils\n",
    "from skimage.feature import hog\n",
    "from skimage import data,exposure"
   ]
  },
  {
   "cell_type": "code",
   "execution_count": 8,
   "metadata": {},
   "outputs": [],
   "source": [
    "path_folder_bagamoyo_data = '/media/amogh/Stuff/CMU/datasets/bagamoyo_data/'"
   ]
  },
  {
   "cell_type": "code",
   "execution_count": 9,
   "metadata": {},
   "outputs": [],
   "source": [
    "path_folder_subject_videos = path_folder_bagamoyo_data + 'bagamoyo_videos/subject_sorted_videos/'"
   ]
  },
  {
   "cell_type": "code",
   "execution_count": 31,
   "metadata": {},
   "outputs": [],
   "source": [
    "path_folder_framewise_videos = path_folder_bagamoyo_data + 'bagamoyo_frames_folder_wise/'"
   ]
  },
  {
   "cell_type": "code",
   "execution_count": 12,
   "metadata": {},
   "outputs": [
    {
     "data": {
      "text/plain": [
       "['/media/amogh/Stuff/CMU/datasets/bagamoyo_data/bagamoyo_videos/subject_sorted_videos/1/',\n",
       " '/media/amogh/Stuff/CMU/datasets/bagamoyo_data/bagamoyo_videos/subject_sorted_videos/10/',\n",
       " '/media/amogh/Stuff/CMU/datasets/bagamoyo_data/bagamoyo_videos/subject_sorted_videos/11/',\n",
       " '/media/amogh/Stuff/CMU/datasets/bagamoyo_data/bagamoyo_videos/subject_sorted_videos/12/',\n",
       " '/media/amogh/Stuff/CMU/datasets/bagamoyo_data/bagamoyo_videos/subject_sorted_videos/13/',\n",
       " '/media/amogh/Stuff/CMU/datasets/bagamoyo_data/bagamoyo_videos/subject_sorted_videos/2/',\n",
       " '/media/amogh/Stuff/CMU/datasets/bagamoyo_data/bagamoyo_videos/subject_sorted_videos/3/',\n",
       " '/media/amogh/Stuff/CMU/datasets/bagamoyo_data/bagamoyo_videos/subject_sorted_videos/4/',\n",
       " '/media/amogh/Stuff/CMU/datasets/bagamoyo_data/bagamoyo_videos/subject_sorted_videos/5/',\n",
       " '/media/amogh/Stuff/CMU/datasets/bagamoyo_data/bagamoyo_videos/subject_sorted_videos/6/',\n",
       " '/media/amogh/Stuff/CMU/datasets/bagamoyo_data/bagamoyo_videos/subject_sorted_videos/7/',\n",
       " '/media/amogh/Stuff/CMU/datasets/bagamoyo_data/bagamoyo_videos/subject_sorted_videos/8/',\n",
       " '/media/amogh/Stuff/CMU/datasets/bagamoyo_data/bagamoyo_videos/subject_sorted_videos/9/']"
      ]
     },
     "execution_count": 12,
     "metadata": {},
     "output_type": "execute_result"
    }
   ],
   "source": [
    "list_path_subject_folders = glob.glob(path_folder_subject_videos+'/*/')\n",
    "list_path_subject_folders"
   ]
  },
  {
   "cell_type": "code",
   "execution_count": 30,
   "metadata": {},
   "outputs": [
    {
     "data": {
      "text/plain": [
       "'VIDEO_03-female-delight_20180517_045330_2007337220'"
      ]
     },
     "execution_count": 30,
     "metadata": {},
     "output_type": "execute_result"
    }
   ],
   "source": [
    "os.path.splitext(os.path.basename(glob.glob(path_folder_subject_videos+'9/*')[0]))[0]"
   ]
  },
  {
   "cell_type": "markdown",
   "metadata": {},
   "source": [
    "Subjects to use for training and testing"
   ]
  },
  {
   "cell_type": "code",
   "execution_count": 32,
   "metadata": {},
   "outputs": [],
   "source": [
    "list_training_subjects = []\n",
    "list_testing_subjects = []"
   ]
  },
  {
   "cell_type": "code",
   "execution_count": null,
   "metadata": {},
   "outputs": [],
   "source": [
    "def generateTrainTestData(list_training_subjects)\n",
    "\"\"\"\n",
    "Copies the images from the train and test folders in the faces folder\n",
    "\"\"\""
   ]
  }
 ],
 "metadata": {
  "kernelspec": {
   "display_name": "Python 2",
   "language": "python",
   "name": "python2"
  },
  "language_info": {
   "codemirror_mode": {
    "name": "ipython",
    "version": 2
   },
   "file_extension": ".py",
   "mimetype": "text/x-python",
   "name": "python",
   "nbconvert_exporter": "python",
   "pygments_lexer": "ipython2",
   "version": "2.7.14"
  }
 },
 "nbformat": 4,
 "nbformat_minor": 2
}
