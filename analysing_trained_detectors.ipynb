{
 "cells": [
  {
   "cell_type": "markdown",
   "metadata": {},
   "source": [
    "# Analysing Trained detectors"
   ]
  },
  {
   "cell_type": "markdown",
   "metadata": {},
   "source": [
    "## Importing libraries"
   ]
  },
  {
   "cell_type": "code",
   "execution_count": 10,
   "metadata": {},
   "outputs": [],
   "source": [
    "import gc\n",
    "import os\n",
    "import sys\n",
    "import math\n",
    "import glob\n",
    "import tqdm\n",
    "import random\n",
    "import numpy as np\n",
    "from tqdm import tqdm\n",
    "import time \n",
    "from time import sleep"
   ]
  },
  {
   "cell_type": "code",
   "execution_count": 11,
   "metadata": {},
   "outputs": [],
   "source": [
    "import pandas as pd\n",
    "import xml.etree.ElementTree as ET"
   ]
  },
  {
   "cell_type": "code",
   "execution_count": 12,
   "metadata": {},
   "outputs": [],
   "source": [
    "import cv2\n",
    "import dlib\n",
    "from imutils import face_utils\n",
    "from skimage.feature import hog\n",
    "from skimage import data,exposure"
   ]
  },
  {
   "cell_type": "code",
   "execution_count": 13,
   "metadata": {},
   "outputs": [],
   "source": [
    "import matplotlib \n",
    "%matplotlib inline\n",
    "import matplotlib.pyplot as plt"
   ]
  },
  {
   "cell_type": "code",
   "execution_count": 14,
   "metadata": {},
   "outputs": [],
   "source": [
    "from ipywidgets import widgets, interactive, fixed"
   ]
  },
  {
   "cell_type": "markdown",
   "metadata": {},
   "source": [
    "## Paths"
   ]
  },
  {
   "cell_type": "code",
   "execution_count": 34,
   "metadata": {},
   "outputs": [],
   "source": [
    "path_openface_xml = '/media/amogh/Stuff/OpenFace_Outputs/Openface_outputs/oface_combined_csv/openface_404_folders_75_confidence.xml'"
   ]
  },
  {
   "cell_type": "code",
   "execution_count": 16,
   "metadata": {},
   "outputs": [],
   "source": [
    "path_detector_1_xml = '/home/amogh/cmu/detect_faces/custom_hog_output_1523.xml'"
   ]
  },
  {
   "cell_type": "code",
   "execution_count": 17,
   "metadata": {},
   "outputs": [],
   "source": [
    "path_detector_2_xml = '/home/amogh/cmu/detect_faces/custom_hog_output_2523.xml'"
   ]
  },
  {
   "cell_type": "code",
   "execution_count": 18,
   "metadata": {},
   "outputs": [],
   "source": [
    "path_detector_3_xml = '/home/amogh/cmu/detect_faces/custom_hog_output_3523.xml'"
   ]
  },
  {
   "cell_type": "markdown",
   "metadata": {},
   "source": [
    "## Computation functions"
   ]
  },
  {
   "cell_type": "code",
   "execution_count": 19,
   "metadata": {},
   "outputs": [],
   "source": [
    "def box_percent_covered (a,b):\n",
    "    inner = a.intersect(b).area()\n",
    "    if inner == 0:\n",
    "        return 0\n",
    "    return max(inner/a.area(), inner/b.area())"
   ]
  },
  {
   "cell_type": "code",
   "execution_count": 20,
   "metadata": {},
   "outputs": [],
   "source": [
    "def drect_add(a,b):\n",
    "    return dlib.drectangle(min(a.left(),b.left()),min(a.top(),b.top()),max(a.right(),b.right()),max(a.bottom(),b.bottom()))"
   ]
  },
  {
   "cell_type": "code",
   "execution_count": 21,
   "metadata": {},
   "outputs": [],
   "source": [
    "def intersect(a,b,iou_thresh=0.5,percent_covered_thresh=1.0):\n",
    "    \n",
    "    inner = a.intersect(b).area()\n",
    "    if (inner == 0):\n",
    "        return false\n",
    "    \n",
    "    outer = drect_add(a,b).area()\n",
    "    print(\"inner,outer,a.area,b.area: \", inner, outer, a.area(),b.area())\n",
    "    if (inner/outer > iou_thresh or \n",
    "        inner/a.area() > percent_covered_thresh or \n",
    "        inner/b.area() > percent_covered_thresh):\n",
    "        return True\n",
    "    else:\n",
    "        return False"
   ]
  },
  {
   "cell_type": "code",
   "execution_count": 22,
   "metadata": {},
   "outputs": [],
   "source": [
    "a = dlib.drectangle(2,1,4.5,3)\n",
    "b = dlib.drectangle(3,1,5,3)"
   ]
  },
  {
   "cell_type": "code",
   "execution_count": 23,
   "metadata": {},
   "outputs": [
    {
     "data": {
      "text/plain": [
       "float"
      ]
     },
     "execution_count": 23,
     "metadata": {},
     "output_type": "execute_result"
    }
   ],
   "source": [
    "type(max(1.,2.))"
   ]
  },
  {
   "cell_type": "code",
   "execution_count": 24,
   "metadata": {
    "scrolled": true
   },
   "outputs": [
    {
     "data": {
      "text/plain": [
       "2.0"
      ]
     },
     "execution_count": 24,
     "metadata": {},
     "output_type": "execute_result"
    }
   ],
   "source": [
    "a.left()"
   ]
  },
  {
   "cell_type": "code",
   "execution_count": 25,
   "metadata": {
    "scrolled": false
   },
   "outputs": [
    {
     "name": "stdout",
     "output_type": "stream",
     "text": [
      "('inner,outer,a.area,b.area: ', 7.5, 12.0, 10.5, 9.0)\n"
     ]
    },
    {
     "data": {
      "text/plain": [
       "True"
      ]
     },
     "execution_count": 25,
     "metadata": {},
     "output_type": "execute_result"
    }
   ],
   "source": [
    "intersect(a,b)"
   ]
  },
  {
   "cell_type": "markdown",
   "metadata": {},
   "source": [
    "## Reading xml files"
   ]
  },
  {
   "cell_type": "markdown",
   "metadata": {},
   "source": [
    "There are 2 xml files. One with the ground truth and the other with the detected. Given the name of the image, need to get the boxes list from one, and the box list from other xml."
   ]
  },
  {
   "cell_type": "code",
   "execution_count": 35,
   "metadata": {},
   "outputs": [
    {
     "ename": "SyntaxError",
     "evalue": "invalid syntax (<ipython-input-35-92b68a0a2f28>, line 2)",
     "output_type": "error",
     "traceback": [
      "\u001b[0;36m  File \u001b[0;32m\"<ipython-input-35-92b68a0a2f28>\"\u001b[0;36m, line \u001b[0;32m2\u001b[0m\n\u001b[0;31m    list_images =\u001b[0m\n\u001b[0m                  ^\u001b[0m\n\u001b[0;31mSyntaxError\u001b[0m\u001b[0;31m:\u001b[0m invalid syntax\n"
     ]
    }
   ],
   "source": [
    "def getListImages(xml_path):\n",
    "    list_images = \n",
    "    return list_images"
   ]
  },
  {
   "cell_type": "code",
   "execution_count": 49,
   "metadata": {},
   "outputs": [],
   "source": [
    "def get_detected_boxes(image_file_name, path_detector_xml_file):\n",
    "    \"\"\"Get list of boxes detected\"\"\"\n",
    "    \n",
    "    tree = ET.parse(path_openface_xml)\n",
    "    root = tree.getroot()\n",
    "    for image in root.iter('image'):\n",
    "        #image found\n",
    "        if image.attrib['file'] == image_file_name:\n",
    "            if (len(image) == 0):\n",
    "                return []\n",
    "            else:\n",
    "                list_boxes = []\n",
    "                for box_num, box in enumerate(image):\n",
    "                    box_attribs = box.attrib\n",
    "                    box_rect = dlib.drectangle((float)(box_attribs['left']),\n",
    "                                               (float)(box_attribs['top']),\n",
    "                                              ((float)(box_attribs['left'])+(float)(box_attribs['width'])),\n",
    "                                              ((float)(box_attribs['top'])+(float)(box_attribs['height'])))\n",
    "                    list_boxes.append(box_rect)\n",
    "                return list_boxes\n",
    "    print('image not found')\n",
    "    return None"
   ]
  },
  {
   "cell_type": "code",
   "execution_count": 36,
   "metadata": {},
   "outputs": [],
   "source": [
    "def debug():\n",
    "    tree = ET.parse(path_openface_xml)\n",
    "    root = tree.getroot()\n",
    "    for \n",
    "    \n",
    "debug()"
   ]
  },
  {
   "cell_type": "code",
   "execution_count": null,
   "metadata": {},
   "outputs": [],
   "source": [
    "def getHitData(list_images, path_truth_xml_file, path_detector_xml_file):\n",
    "\n",
    "    correct_hits = 0\n",
    "    total_true_targets = 0\n",
    "    missing_detections = 0\n",
    "    total_hits = 0\n",
    "\n",
    "    for image in list_images:\n",
    "\n",
    "        detected_boxes = get_detected_boxes(image, path_detector_xml_file)\n",
    "        true_boxes = get_detected_boxes(image, path_truth_xml_file)\n",
    "\n",
    "        correct_hits += \n",
    "        total_true_targets = len(true_boxes)\n",
    "        total_hits += len(detected_boxes)\n",
    "\n",
    "    return total_hits, correct_hits, total_true_targets\n",
    "\n",
    "    \n",
    "\n",
    "def getAnalysis(total_hits, correct_hits, total_true_targets):\n",
    "    \n",
    "    if (total_hits == 0):\n",
    "        precision = 1\n",
    "    else:\n",
    "        precision = correct_hits / total_hits\n",
    "        \n",
    "    if (total_true_targets == 0):\n",
    "        recall = 1\n",
    "    else:\n",
    "        recall = correct_hits / total_true_targets"
   ]
  }
 ],
 "metadata": {
  "kernelspec": {
   "display_name": "Python 2",
   "language": "python",
   "name": "python2"
  },
  "language_info": {
   "codemirror_mode": {
    "name": "ipython",
    "version": 2
   },
   "file_extension": ".py",
   "mimetype": "text/x-python",
   "name": "python",
   "nbconvert_exporter": "python",
   "pygments_lexer": "ipython2",
   "version": "2.7.14"
  }
 },
 "nbformat": 4,
 "nbformat_minor": 2
}
