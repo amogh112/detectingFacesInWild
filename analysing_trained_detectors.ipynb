{
 "cells": [
  {
   "cell_type": "markdown",
   "metadata": {},
   "source": [
    "# Analysing Trained detectors"
   ]
  },
  {
   "cell_type": "markdown",
   "metadata": {},
   "source": [
    "## Importing libraries"
   ]
  },
  {
   "cell_type": "code",
   "execution_count": 83,
   "metadata": {},
   "outputs": [],
   "source": [
    "import gc\n",
    "import os\n",
    "import sys\n",
    "import math\n",
    "import glob\n",
    "import tqdm\n",
    "import random\n",
    "import numpy as np\n",
    "from tqdm import tqdm\n",
    "import time \n",
    "from time import sleep"
   ]
  },
  {
   "cell_type": "code",
   "execution_count": 84,
   "metadata": {},
   "outputs": [],
   "source": [
    "import pandas as pd\n",
    "import xml.etree.ElementTree as ET"
   ]
  },
  {
   "cell_type": "code",
   "execution_count": 85,
   "metadata": {},
   "outputs": [],
   "source": [
    "import cv2\n",
    "import dlib\n",
    "from imutils import face_utils\n",
    "from skimage.feature import hog\n",
    "from skimage import data,exposure"
   ]
  },
  {
   "cell_type": "code",
   "execution_count": 86,
   "metadata": {},
   "outputs": [],
   "source": [
    "import matplotlib \n",
    "%matplotlib inline\n",
    "import matplotlib.pyplot as plt"
   ]
  },
  {
   "cell_type": "code",
   "execution_count": 87,
   "metadata": {},
   "outputs": [],
   "source": [
    "from ipywidgets import widgets, interactive, fixed"
   ]
  },
  {
   "cell_type": "markdown",
   "metadata": {},
   "source": [
    "## Paths"
   ]
  },
  {
   "cell_type": "code",
   "execution_count": 88,
   "metadata": {},
   "outputs": [],
   "source": [
    "path_openface_xml = '/media/amogh/Stuff/OpenFace_Outputs/Openface_outputs/oface_combined_csv/openface_404_folders_75_confidence.xml'"
   ]
  },
  {
   "cell_type": "code",
   "execution_count": 89,
   "metadata": {},
   "outputs": [],
   "source": [
    "path_detector_1_xml = '/home/amogh/cmu/detect_faces/custom_hog_output_1523.xml'"
   ]
  },
  {
   "cell_type": "code",
   "execution_count": 90,
   "metadata": {},
   "outputs": [],
   "source": [
    "path_detector_2_xml = '/home/amogh/cmu/detect_faces/custom_hog_output_2523.xml'"
   ]
  },
  {
   "cell_type": "code",
   "execution_count": 91,
   "metadata": {},
   "outputs": [],
   "source": [
    "path_detector_3_xml = '/home/amogh/cmu/detect_faces/custom_hog_output_3523.xml'"
   ]
  },
  {
   "cell_type": "markdown",
   "metadata": {},
   "source": [
    "## Computation functions"
   ]
  },
  {
   "cell_type": "code",
   "execution_count": 92,
   "metadata": {},
   "outputs": [],
   "source": [
    "def box_percent_covered (a,b):\n",
    "    inner = a.intersect(b).area()\n",
    "    if inner == 0:\n",
    "        return 0\n",
    "    return max(inner/a.area(), inner/b.area())"
   ]
  },
  {
   "cell_type": "code",
   "execution_count": 93,
   "metadata": {},
   "outputs": [],
   "source": [
    "def drect_add(a,b):\n",
    "    \"\"\"\n",
    "    Being able to add two rectangles, as addition is not available in the version of dlib in anaconda environment.\n",
    "    \"\"\"\n",
    "    \n",
    "    return dlib.drectangle(min(a.left(),b.left()),min(a.top(),b.top()),max(a.right(),b.right()),max(a.bottom(),b.bottom()))"
   ]
  },
  {
   "cell_type": "code",
   "execution_count": 94,
   "metadata": {},
   "outputs": [],
   "source": [
    "def intersect(a,b,iou_thresh=0.5,percent_covered_thresh=1.0):\n",
    "    \n",
    "    inner = a.intersect(b).area()\n",
    "    if (inner == 0):\n",
    "        return false\n",
    "    \n",
    "    outer = drect_add(a,b).area()\n",
    "    print(\"inner,outer,a.area,b.area: \", inner, outer, a.area(),b.area())\n",
    "    if (inner/outer > iou_thresh or \n",
    "        inner/a.area() > percent_covered_thresh or \n",
    "        inner/b.area() > percent_covered_thresh):\n",
    "        return True\n",
    "    else:\n",
    "        return False"
   ]
  },
  {
   "cell_type": "code",
   "execution_count": 95,
   "metadata": {},
   "outputs": [],
   "source": [
    "a = dlib.drectangle(2,1,4.5,3)\n",
    "b = dlib.drectangle(3,1,5,3)"
   ]
  },
  {
   "cell_type": "code",
   "execution_count": 96,
   "metadata": {},
   "outputs": [
    {
     "data": {
      "text/plain": [
       "float"
      ]
     },
     "execution_count": 96,
     "metadata": {},
     "output_type": "execute_result"
    }
   ],
   "source": [
    "type(max(1.,2.))"
   ]
  },
  {
   "cell_type": "code",
   "execution_count": 97,
   "metadata": {
    "scrolled": true
   },
   "outputs": [
    {
     "data": {
      "text/plain": [
       "2.0"
      ]
     },
     "execution_count": 97,
     "metadata": {},
     "output_type": "execute_result"
    }
   ],
   "source": [
    "a.left()"
   ]
  },
  {
   "cell_type": "code",
   "execution_count": 98,
   "metadata": {
    "scrolled": false
   },
   "outputs": [
    {
     "name": "stdout",
     "output_type": "stream",
     "text": [
      "('inner,outer,a.area,b.area: ', 7.5, 12.0, 10.5, 9.0)\n"
     ]
    },
    {
     "data": {
      "text/plain": [
       "True"
      ]
     },
     "execution_count": 98,
     "metadata": {},
     "output_type": "execute_result"
    }
   ],
   "source": [
    "intersect(a,b)"
   ]
  },
  {
   "cell_type": "markdown",
   "metadata": {},
   "source": [
    "## Reading xml files"
   ]
  },
  {
   "cell_type": "markdown",
   "metadata": {},
   "source": [
    "There are 2 xml files. One with the ground truth and the other with the detected. Given the name of the image, need to get the boxes list from one, and the box list from other xml."
   ]
  },
  {
   "cell_type": "code",
   "execution_count": 99,
   "metadata": {},
   "outputs": [],
   "source": [
    "def getListImagesFromXML(path_xml):\n",
    "    \"\"\"\n",
    "    Gets the list of the image filenames from an XML\n",
    "    \"\"\"\n",
    "    \n",
    "    tree = ET.parse(path_xml)\n",
    "    root = tree.getroot()\n",
    "    \n",
    "    list_filenames = []\n",
    "    for image in root.iter('image'):\n",
    "        list_filenames.append(image.attrib['file'])\n",
    "        \n",
    "    return list_filenames"
   ]
  },
  {
   "cell_type": "code",
   "execution_count": 100,
   "metadata": {},
   "outputs": [],
   "source": [
    "def getDetectedBoxes(image_file_name, path_detector_xml_file):\n",
    "    \"\"\"\n",
    "    Get list of boxes detected\n",
    "    \"\"\"\n",
    "    \n",
    "    tree = ET.parse(path_openface_xml)\n",
    "    root = tree.getroot()\n",
    "    for image in root.iter('image'):\n",
    "        #image found\n",
    "        if image.attrib['file'] == image_file_name:\n",
    "            if (len(image) == 0):\n",
    "                return []\n",
    "            else:\n",
    "                list_boxes = []\n",
    "                for box_num, box in enumerate(image):\n",
    "                    box_attribs = box.attrib\n",
    "                    box_rect = dlib.drectangle((float)(box_attribs['left']),\n",
    "                                               (float)(box_attribs['top']),\n",
    "                                              ((float)(box_attribs['left'])+(float)(box_attribs['width'])),\n",
    "                                              ((float)(box_attribs['top'])+(float)(box_attribs['height'])))\n",
    "                    list_boxes.append(box_rect)\n",
    "                return list_boxes\n",
    "    print('image not found')\n",
    "    return None"
   ]
  },
  {
   "cell_type": "code",
   "execution_count": 104,
   "metadata": {},
   "outputs": [],
   "source": [
    "def getHitStats(list_images, path_truth_xml_file, path_detector_xml_file):\n",
    "    \"\"\"\n",
    "    Get the statistics such as total_hits, correct_hits and total_true targets from a list of image names,\n",
    "    and the path to xml files.\n",
    "    \"\"\"\n",
    "    \n",
    "    correct_hits = 0\n",
    "    total_true_targets = 0\n",
    "    missing_detections = 0\n",
    "    total_hits = 0\n",
    "\n",
    "    for image in tqdm(list_images):\n",
    "        \n",
    "        detected_boxes = getDetectedBoxes(image, path_detector_xml_file)\n",
    "        true_boxes = getDetectedBoxes(image, path_truth_xml_file)\n",
    "        \n",
    "        # If there are no boxes detected, add the true number of boxes to missing detections\n",
    "        if (len(detected_boxes) == 0):\n",
    "            missing_detections += len(true_boxes)\n",
    "        \n",
    "        # Go over all the labels (true boxes) and match them with all the detections.\n",
    "        count = 0\n",
    "        used = [False] * len(detected_boxes)\n",
    "        for i in range(len(true_boxes)):\n",
    "            \n",
    "            #Compare a truth label with all the detected boxes, given that they are not yet detected/used\n",
    "            found_match = False\n",
    "            for j in range(len(detected_boxes)):\n",
    "                \n",
    "                if(used[j]):\n",
    "                    continue\n",
    "                \n",
    "                if(intersect(true_boxes[i],detected_boxes[j])):\n",
    "                    used[j] == True\n",
    "                    found_match = True\n",
    "                    count += 1\n",
    "                    break\n",
    "        \n",
    "            if(not found_match):\n",
    "                missing_detections += 1\n",
    "        \n",
    "        correct_hits += count\n",
    "        total_true_targets += len(true_boxes)\n",
    "        total_hits += used.count(True)\n",
    "\n",
    "    return total_hits, correct_hits, total_true_targets\n",
    "\n",
    "    "
   ]
  },
  {
   "cell_type": "code",
   "execution_count": 102,
   "metadata": {},
   "outputs": [],
   "source": [
    "def getAnalysis(total_hits, correct_hits, total_true_targets):\n",
    "    \"\"\"\n",
    "    Get final precision and recall\n",
    "    \"\"\"\n",
    "    \n",
    "    if (total_hits == 0):\n",
    "        precision = 1\n",
    "    else:\n",
    "        precision = correct_hits / total_hits\n",
    "        \n",
    "    if (total_true_targets == 0):\n",
    "        recall = 1\n",
    "    else:\n",
    "        recall = correct_hits / total_true_targets"
   ]
  },
  {
   "cell_type": "code",
   "execution_count": null,
   "metadata": {},
   "outputs": [],
   "source": [
    "getHitStats()"
   ]
  },
  {
   "cell_type": "code",
   "execution_count": null,
   "metadata": {},
   "outputs": [],
   "source": [
    "getAnalysis"
   ]
  },
  {
   "cell_type": "code",
   "execution_count": null,
   "metadata": {
    "scrolled": true
   },
   "outputs": [
    {
     "name": "stderr",
     "output_type": "stream",
     "text": [
      "  0%|          | 13/57234 [00:27<33:17:02,  2.09s/it]"
     ]
    },
    {
     "name": "stdout",
     "output_type": "stream",
     "text": [
      "('inner,outer,a.area,b.area: ', 198891.0, 198891.0, 198891.0, 198891.0)\n"
     ]
    },
    {
     "name": "stderr",
     "output_type": "stream",
     "text": [
      "\r",
      "  0%|          | 14/57234 [00:29<33:24:15,  2.10s/it]"
     ]
    },
    {
     "name": "stdout",
     "output_type": "stream",
     "text": [
      "('inner,outer,a.area,b.area: ', 197055.0, 197055.0, 197055.0, 197055.0)\n"
     ]
    },
    {
     "name": "stderr",
     "output_type": "stream",
     "text": [
      "\r",
      "  0%|          | 15/57234 [00:31<33:25:51,  2.10s/it]"
     ]
    },
    {
     "name": "stdout",
     "output_type": "stream",
     "text": [
      "('inner,outer,a.area,b.area: ', 195696.0, 195696.0, 195696.0, 195696.0)\n"
     ]
    },
    {
     "name": "stderr",
     "output_type": "stream",
     "text": [
      "\r",
      "  0%|          | 16/57234 [00:33<33:17:53,  2.10s/it]"
     ]
    },
    {
     "name": "stdout",
     "output_type": "stream",
     "text": [
      "('inner,outer,a.area,b.area: ', 198360.0, 198360.0, 198360.0, 198360.0)\n"
     ]
    },
    {
     "name": "stderr",
     "output_type": "stream",
     "text": [
      "\r",
      "  0%|          | 17/57234 [00:35<33:17:51,  2.10s/it]"
     ]
    },
    {
     "name": "stdout",
     "output_type": "stream",
     "text": [
      "('inner,outer,a.area,b.area: ', 201940.0, 201940.0, 201940.0, 201940.0)\n"
     ]
    },
    {
     "name": "stderr",
     "output_type": "stream",
     "text": [
      "\r",
      "  0%|          | 18/57234 [00:37<33:17:31,  2.09s/it]"
     ]
    },
    {
     "name": "stdout",
     "output_type": "stream",
     "text": [
      "('inner,outer,a.area,b.area: ', 204240.0, 204240.0, 204240.0, 204240.0)\n"
     ]
    },
    {
     "name": "stderr",
     "output_type": "stream",
     "text": [
      "\r",
      "  0%|          | 19/57234 [00:39<33:18:14,  2.10s/it]"
     ]
    },
    {
     "name": "stdout",
     "output_type": "stream",
     "text": [
      "('inner,outer,a.area,b.area: ', 208833.0, 208833.0, 208833.0, 208833.0)\n"
     ]
    },
    {
     "name": "stderr",
     "output_type": "stream",
     "text": [
      "\r",
      "  0%|          | 20/57234 [00:41<33:16:58,  2.09s/it]"
     ]
    },
    {
     "name": "stdout",
     "output_type": "stream",
     "text": [
      "('inner,outer,a.area,b.area: ', 211120.0, 211120.0, 211120.0, 211120.0)\n"
     ]
    },
    {
     "name": "stderr",
     "output_type": "stream",
     "text": [
      "\r",
      "  0%|          | 21/57234 [00:44<33:19:38,  2.10s/it]"
     ]
    },
    {
     "name": "stdout",
     "output_type": "stream",
     "text": [
      "('inner,outer,a.area,b.area: ', 218943.0, 218943.0, 218943.0, 218943.0)\n"
     ]
    },
    {
     "name": "stderr",
     "output_type": "stream",
     "text": [
      "\r",
      "  0%|          | 22/57234 [00:46<33:23:42,  2.10s/it]"
     ]
    },
    {
     "name": "stdout",
     "output_type": "stream",
     "text": [
      "('inner,outer,a.area,b.area: ', 215418.0, 215418.0, 215418.0, 215418.0)\n"
     ]
    },
    {
     "name": "stderr",
     "output_type": "stream",
     "text": [
      "\r",
      "  0%|          | 23/57234 [00:48<33:24:22,  2.10s/it]"
     ]
    },
    {
     "name": "stdout",
     "output_type": "stream",
     "text": [
      "('inner,outer,a.area,b.area: ', 213036.0, 213036.0, 213036.0, 213036.0)\n"
     ]
    },
    {
     "name": "stderr",
     "output_type": "stream",
     "text": [
      "\r",
      "  0%|          | 24/57234 [00:50<33:27:03,  2.10s/it]"
     ]
    }
   ],
   "source": [
    "def main():\n",
    "    list_images = getListImagesFromXML(path_openface_xml)\n",
    "    getHitStats(list_images, path_openface_xml,path_detector_1_xml)\n",
    "main()"
   ]
  },
  {
   "cell_type": "code",
   "execution_count": null,
   "metadata": {},
   "outputs": [],
   "source": []
  }
 ],
 "metadata": {
  "kernelspec": {
   "display_name": "Python 2",
   "language": "python",
   "name": "python2"
  },
  "language_info": {
   "codemirror_mode": {
    "name": "ipython",
    "version": 2
   },
   "file_extension": ".py",
   "mimetype": "text/x-python",
   "name": "python",
   "nbconvert_exporter": "python",
   "pygments_lexer": "ipython2",
   "version": "2.7.14"
  }
 },
 "nbformat": 4,
 "nbformat_minor": 2
}
