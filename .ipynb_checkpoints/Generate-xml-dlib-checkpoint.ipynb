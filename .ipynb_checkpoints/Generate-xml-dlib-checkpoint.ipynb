{
 "cells": [
  {
   "cell_type": "markdown",
   "metadata": {},
   "source": [
    "# Script to detect faces using dlib."
   ]
  },
  {
   "cell_type": "markdown",
   "metadata": {},
   "source": [
    "### Importing libraries"
   ]
  },
  {
   "cell_type": "code",
   "execution_count": 1,
   "metadata": {},
   "outputs": [],
   "source": [
    "import gc\n",
    "import os\n",
    "import sys\n",
    "import math\n",
    "import glob\n",
    "import tqdm\n",
    "import random\n",
    "import numpy as np\n",
    "from tqdm import tqdm\n",
    "from time import sleep"
   ]
  },
  {
   "cell_type": "code",
   "execution_count": 2,
   "metadata": {},
   "outputs": [],
   "source": [
    "import pandas as pd\n",
    "import xml.etree.cElementTree as ET"
   ]
  },
  {
   "cell_type": "code",
   "execution_count": 3,
   "metadata": {},
   "outputs": [],
   "source": [
    "import cv2\n",
    "import dlib\n",
    "from imutils import face_utils\n",
    "from skimage.feature import hog\n",
    "from skimage import data,exposure"
   ]
  },
  {
   "cell_type": "markdown",
   "metadata": {},
   "source": [
    "### Defining paths"
   ]
  },
  {
   "cell_type": "code",
   "execution_count": 4,
   "metadata": {},
   "outputs": [],
   "source": [
    "path_folder_all_frames = '/media/amogh/Stuff/CMU/datasets/bagamoyo_data/bagamoyo_frames_all_in_one'"
   ]
  },
  {
   "cell_type": "code",
   "execution_count": 5,
   "metadata": {},
   "outputs": [],
   "source": [
    "path_folder = '/media/amogh/Stuff/CMU/datasets/bagamoyo_data/bagamoyo_frames_folder_wise'"
   ]
  },
  {
   "cell_type": "markdown",
   "metadata": {},
   "source": [
    "## Write an xml file, given the folder of images and path for detector(optional)"
   ]
  },
  {
   "cell_type": "markdown",
   "metadata": {},
   "source": [
    "### Generating an xml file"
   ]
  },
  {
   "cell_type": "code",
   "execution_count": 93,
   "metadata": {},
   "outputs": [],
   "source": [
    "def writeXMLForDetectedFaces(path_folder_of_folders_of_images, detector,predictor, output_file_name = 'output.xml'):\n",
    "    \"\"\"\n",
    "    writes XML after detecting faces given source folder of video folders containing image frames, a landmark predictor and a face detector\n",
    "    \"\"\"\n",
    "    \n",
    "    #Writing an XML\n",
    "    root = ET.Element(\"dataset\")\n",
    "    name = ET.SubElement(root, \"name\").text = \"Labelled faces\"\n",
    "    comment = ET.SubElement(root, \"comment\").text = \"These are labelled images from Bagamoyo\"\n",
    "    images = ET.SubElement(root, \"images\")\n",
    "    \n",
    "    list_folder_images = glob.glob(path_folder_of_folders_of_images + '/*')\n",
    "    print(\"Number of folders found in the folder are: \", len(list_folder_images))\n",
    "    for vid_no,vid_folder in enumerate(list_folder_images):\n",
    "        list_path_frames = glob.glob(vid_folder+'/*')\n",
    "        print(\"Number of images found in the folder {} are: \".format(vid_folder), len(list_path_frames))\n",
    "        try:\n",
    "            for path_frame in list_path_frames:\n",
    "                #add image to images in XML\n",
    "                image_node = ET.SubElement(images, \"image\", file=path_frame.split('/')[-1])\n",
    "                print(path_frame)\n",
    "#             try:\n",
    "                image=cv2.imread(path_frame)\n",
    "                gray=cv2.cvtColor(image,cv2.COLOR_BGR2GRAY)\n",
    "                rects=detector(gray,1)\n",
    "                for i,rect in enumerate(rects):                    \n",
    "                    shape = predictor(gray, rect)\n",
    "                    shape = face_utils.shape_to_np(shape)\n",
    "                    (x, y, w, h) = face_utils.rect_to_bb(rect)\n",
    "                    #add box to image in XML\n",
    "                    box = ET.SubElement(image_node, \"box\", height=str(h), left=str(x), top=str(y), width=str(w))\n",
    "        except KeyboardInterrupt:\n",
    "            break\n",
    "        except:\n",
    "            continue\n",
    "    \n",
    "    #write XML\n",
    "    tree = ET.ElementTree(root)\n",
    "    tree.write(output_file_name)\n",
    "    print(\"xml written to {}\".format(output_file_name))"
   ]
  },
  {
   "cell_type": "code",
   "execution_count": null,
   "metadata": {},
   "outputs": [],
   "source": [
    "def saveXMLForHOGDetector(path_folder_of_folders_of_images,output_file_name='output.xml'):\n",
    "    args={\"shape_predictor\":\"shape_predictor_68_face_landmarks.dat\"}\n",
    "    detector = dlib.get_frontal_face_detector()\n",
    "    predictor = dlib.shape_predictor(args[\"shape_predictor\"])\n",
    "    writeXMLForDetectedFaces(path_folder_of_folders_of_images=path_folder_of_folders_of_images, detector=detector,predictor=predictor,output_file_name = output_file_name)"
   ]
  },
  {
   "cell_type": "code",
   "execution_count": 89,
   "metadata": {},
   "outputs": [
    {
     "data": {
      "text/plain": [
       "'VIDEO_00-male-surprise_20180516_091529_219393302 001.jpg'"
      ]
     },
     "execution_count": 89,
     "metadata": {},
     "output_type": "execute_result"
    }
   ],
   "source": [
    "'/media/amogh/Stuff/CMU/datasets/bagamoyo_data/bagamoyo_frames_folder_wise/VIDEO_00-male-surprise_20180516_091529_219393302 (5-29-2018 10-29-50 AM)/VIDEO_00-male-surprise_20180516_091529_219393302 001.jpg'.split('/')[-1]"
   ]
  },
  {
   "cell_type": "code",
   "execution_count": 90,
   "metadata": {
    "scrolled": false
   },
   "outputs": [
    {
     "name": "stdout",
     "output_type": "stream",
     "text": [
      "('Number of folders found in the folder are: ', 524)\n",
      "('Number of images found in the folder /media/amogh/Stuff/CMU/datasets/bagamoyo_data/bagamoyo_frames_folder_wise/VIDEO_00-male-surprise_20180516_091529_219393302 (5-29-2018 10-29-50 AM) are: ', 104)\n",
      "/media/amogh/Stuff/CMU/datasets/bagamoyo_data/bagamoyo_frames_folder_wise/VIDEO_00-male-surprise_20180516_091529_219393302 (5-29-2018 10-29-50 AM)/VIDEO_00-male-surprise_20180516_091529_219393302 001.jpg\n",
      "/media/amogh/Stuff/CMU/datasets/bagamoyo_data/bagamoyo_frames_folder_wise/VIDEO_00-male-surprise_20180516_091529_219393302 (5-29-2018 10-29-50 AM)/VIDEO_00-male-surprise_20180516_091529_219393302 002.jpg\n",
      "/media/amogh/Stuff/CMU/datasets/bagamoyo_data/bagamoyo_frames_folder_wise/VIDEO_00-male-surprise_20180516_091529_219393302 (5-29-2018 10-29-50 AM)/VIDEO_00-male-surprise_20180516_091529_219393302 003.jpg\n",
      "/media/amogh/Stuff/CMU/datasets/bagamoyo_data/bagamoyo_frames_folder_wise/VIDEO_00-male-surprise_20180516_091529_219393302 (5-29-2018 10-29-50 AM)/VIDEO_00-male-surprise_20180516_091529_219393302 004.jpg\n",
      "/media/amogh/Stuff/CMU/datasets/bagamoyo_data/bagamoyo_frames_folder_wise/VIDEO_00-male-surprise_20180516_091529_219393302 (5-29-2018 10-29-50 AM)/VIDEO_00-male-surprise_20180516_091529_219393302 005.jpg\n",
      "/media/amogh/Stuff/CMU/datasets/bagamoyo_data/bagamoyo_frames_folder_wise/VIDEO_00-male-surprise_20180516_091529_219393302 (5-29-2018 10-29-50 AM)/VIDEO_00-male-surprise_20180516_091529_219393302 006.jpg\n",
      "/media/amogh/Stuff/CMU/datasets/bagamoyo_data/bagamoyo_frames_folder_wise/VIDEO_00-male-surprise_20180516_091529_219393302 (5-29-2018 10-29-50 AM)/VIDEO_00-male-surprise_20180516_091529_219393302 007.jpg\n",
      "/media/amogh/Stuff/CMU/datasets/bagamoyo_data/bagamoyo_frames_folder_wise/VIDEO_00-male-surprise_20180516_091529_219393302 (5-29-2018 10-29-50 AM)/VIDEO_00-male-surprise_20180516_091529_219393302 008.jpg\n",
      "/media/amogh/Stuff/CMU/datasets/bagamoyo_data/bagamoyo_frames_folder_wise/VIDEO_00-male-surprise_20180516_091529_219393302 (5-29-2018 10-29-50 AM)/VIDEO_00-male-surprise_20180516_091529_219393302 009.jpg\n",
      "/media/amogh/Stuff/CMU/datasets/bagamoyo_data/bagamoyo_frames_folder_wise/VIDEO_00-male-surprise_20180516_091529_219393302 (5-29-2018 10-29-50 AM)/VIDEO_00-male-surprise_20180516_091529_219393302 011.jpg\n",
      "xml written to output.xml\n"
     ]
    }
   ],
   "source": [
    "writeXMLForDetectedFaces(path_folder,detector,predictor)"
   ]
  },
  {
   "cell_type": "code",
   "execution_count": 11,
   "metadata": {},
   "outputs": [
    {
     "name": "stdout",
     "output_type": "stream",
     "text": [
      "['/media/amogh/Stuff/CMU/datasets/bagamoyo_data/bagamoyo_frames_folder_wise/VIDEO_00-male-surprise_20180516_091529_219393302 (5-29-2018 10-29-50 AM)/VIDEO_00-male-surprise_20180516_091529_219393302 001.jpg', '/media/amogh/Stuff/CMU/datasets/bagamoyo_data/bagamoyo_frames_folder_wise/VIDEO_00-male-surprise_20180516_091529_219393302 (5-29-2018 10-29-50 AM)/VIDEO_00-male-surprise_20180516_091529_219393302 002.jpg', '/media/amogh/Stuff/CMU/datasets/bagamoyo_data/bagamoyo_frames_folder_wise/VIDEO_00-male-surprise_20180516_091529_219393302 (5-29-2018 10-29-50 AM)/VIDEO_00-male-surprise_20180516_091529_219393302 003.jpg', '/media/amogh/Stuff/CMU/datasets/bagamoyo_data/bagamoyo_frames_folder_wise/VIDEO_00-male-surprise_20180516_091529_219393302 (5-29-2018 10-29-50 AM)/VIDEO_00-male-surprise_20180516_091529_219393302 004.jpg', '/media/amogh/Stuff/CMU/datasets/bagamoyo_data/bagamoyo_frames_folder_wise/VIDEO_00-male-surprise_20180516_091529_219393302 (5-29-2018 10-29-50 AM)/VIDEO_00-male-surprise_20180516_091529_219393302 005.jpg', '/media/amogh/Stuff/CMU/datasets/bagamoyo_data/bagamoyo_frames_folder_wise/VIDEO_00-male-surprise_20180516_091529_219393302 (5-29-2018 10-29-50 AM)/VIDEO_00-male-surprise_20180516_091529_219393302 006.jpg', '/media/amogh/Stuff/CMU/datasets/bagamoyo_data/bagamoyo_frames_folder_wise/VIDEO_00-male-surprise_20180516_091529_219393302 (5-29-2018 10-29-50 AM)/VIDEO_00-male-surprise_20180516_091529_219393302 007.jpg', '/media/amogh/Stuff/CMU/datasets/bagamoyo_data/bagamoyo_frames_folder_wise/VIDEO_00-male-surprise_20180516_091529_219393302 (5-29-2018 10-29-50 AM)/VIDEO_00-male-surprise_20180516_091529_219393302 008.jpg', '/media/amogh/Stuff/CMU/datasets/bagamoyo_data/bagamoyo_frames_folder_wise/VIDEO_00-male-surprise_20180516_091529_219393302 (5-29-2018 10-29-50 AM)/VIDEO_00-male-surprise_20180516_091529_219393302 009.jpg', '/media/amogh/Stuff/CMU/datasets/bagamoyo_data/bagamoyo_frames_folder_wise/VIDEO_00-male-surprise_20180516_091529_219393302 (5-29-2018 10-29-50 AM)/VIDEO_00-male-surprise_20180516_091529_219393302 011.jpg', '/media/amogh/Stuff/CMU/datasets/bagamoyo_data/bagamoyo_frames_folder_wise/VIDEO_00-male-surprise_20180516_091529_219393302 (5-29-2018 10-29-50 AM)/VIDEO_00-male-surprise_20180516_091529_219393302 012.jpg', '/media/amogh/Stuff/CMU/datasets/bagamoyo_data/bagamoyo_frames_folder_wise/VIDEO_00-male-surprise_20180516_091529_219393302 (5-29-2018 10-29-50 AM)/VIDEO_00-male-surprise_20180516_091529_219393302 013.jpg', '/media/amogh/Stuff/CMU/datasets/bagamoyo_data/bagamoyo_frames_folder_wise/VIDEO_00-male-surprise_20180516_091529_219393302 (5-29-2018 10-29-50 AM)/VIDEO_00-male-surprise_20180516_091529_219393302 014.jpg', '/media/amogh/Stuff/CMU/datasets/bagamoyo_data/bagamoyo_frames_folder_wise/VIDEO_00-male-surprise_20180516_091529_219393302 (5-29-2018 10-29-50 AM)/VIDEO_00-male-surprise_20180516_091529_219393302 015.jpg', '/media/amogh/Stuff/CMU/datasets/bagamoyo_data/bagamoyo_frames_folder_wise/VIDEO_00-male-surprise_20180516_091529_219393302 (5-29-2018 10-29-50 AM)/VIDEO_00-male-surprise_20180516_091529_219393302 016.jpg', '/media/amogh/Stuff/CMU/datasets/bagamoyo_data/bagamoyo_frames_folder_wise/VIDEO_00-male-surprise_20180516_091529_219393302 (5-29-2018 10-29-50 AM)/VIDEO_00-male-surprise_20180516_091529_219393302 017.jpg', '/media/amogh/Stuff/CMU/datasets/bagamoyo_data/bagamoyo_frames_folder_wise/VIDEO_00-male-surprise_20180516_091529_219393302 (5-29-2018 10-29-50 AM)/VIDEO_00-male-surprise_20180516_091529_219393302 018.jpg', '/media/amogh/Stuff/CMU/datasets/bagamoyo_data/bagamoyo_frames_folder_wise/VIDEO_00-male-surprise_20180516_091529_219393302 (5-29-2018 10-29-50 AM)/VIDEO_00-male-surprise_20180516_091529_219393302 019.jpg', '/media/amogh/Stuff/CMU/datasets/bagamoyo_data/bagamoyo_frames_folder_wise/VIDEO_00-male-surprise_20180516_091529_219393302 (5-29-2018 10-29-50 AM)/VIDEO_00-male-surprise_20180516_091529_219393302 021.jpg', '/media/amogh/Stuff/CMU/datasets/bagamoyo_data/bagamoyo_frames_folder_wise/VIDEO_00-male-surprise_20180516_091529_219393302 (5-29-2018 10-29-50 AM)/VIDEO_00-male-surprise_20180516_091529_219393302 022.jpg', '/media/amogh/Stuff/CMU/datasets/bagamoyo_data/bagamoyo_frames_folder_wise/VIDEO_00-male-surprise_20180516_091529_219393302 (5-29-2018 10-29-50 AM)/VIDEO_00-male-surprise_20180516_091529_219393302 023.jpg', '/media/amogh/Stuff/CMU/datasets/bagamoyo_data/bagamoyo_frames_folder_wise/VIDEO_00-male-surprise_20180516_091529_219393302 (5-29-2018 10-29-50 AM)/VIDEO_00-male-surprise_20180516_091529_219393302 024.jpg', '/media/amogh/Stuff/CMU/datasets/bagamoyo_data/bagamoyo_frames_folder_wise/VIDEO_00-male-surprise_20180516_091529_219393302 (5-29-2018 10-29-50 AM)/VIDEO_00-male-surprise_20180516_091529_219393302 025.jpg', '/media/amogh/Stuff/CMU/datasets/bagamoyo_data/bagamoyo_frames_folder_wise/VIDEO_00-male-surprise_20180516_091529_219393302 (5-29-2018 10-29-50 AM)/VIDEO_00-male-surprise_20180516_091529_219393302 026.jpg', '/media/amogh/Stuff/CMU/datasets/bagamoyo_data/bagamoyo_frames_folder_wise/VIDEO_00-male-surprise_20180516_091529_219393302 (5-29-2018 10-29-50 AM)/VIDEO_00-male-surprise_20180516_091529_219393302 027.jpg', '/media/amogh/Stuff/CMU/datasets/bagamoyo_data/bagamoyo_frames_folder_wise/VIDEO_00-male-surprise_20180516_091529_219393302 (5-29-2018 10-29-50 AM)/VIDEO_00-male-surprise_20180516_091529_219393302 028.jpg', '/media/amogh/Stuff/CMU/datasets/bagamoyo_data/bagamoyo_frames_folder_wise/VIDEO_00-male-surprise_20180516_091529_219393302 (5-29-2018 10-29-50 AM)/VIDEO_00-male-surprise_20180516_091529_219393302 029.jpg', '/media/amogh/Stuff/CMU/datasets/bagamoyo_data/bagamoyo_frames_folder_wise/VIDEO_00-male-surprise_20180516_091529_219393302 (5-29-2018 10-29-50 AM)/VIDEO_00-male-surprise_20180516_091529_219393302 010.jpg', '/media/amogh/Stuff/CMU/datasets/bagamoyo_data/bagamoyo_frames_folder_wise/VIDEO_00-male-surprise_20180516_091529_219393302 (5-29-2018 10-29-50 AM)/VIDEO_00-male-surprise_20180516_091529_219393302 020.jpg', '/media/amogh/Stuff/CMU/datasets/bagamoyo_data/bagamoyo_frames_folder_wise/VIDEO_00-male-surprise_20180516_091529_219393302 (5-29-2018 10-29-50 AM)/VIDEO_00-male-surprise_20180516_091529_219393302 030.jpg', '/media/amogh/Stuff/CMU/datasets/bagamoyo_data/bagamoyo_frames_folder_wise/VIDEO_00-male-surprise_20180516_091529_219393302 (5-29-2018 10-29-50 AM)/VIDEO_00-male-surprise_20180516_091529_219393302 040.jpg', '/media/amogh/Stuff/CMU/datasets/bagamoyo_data/bagamoyo_frames_folder_wise/VIDEO_00-male-surprise_20180516_091529_219393302 (5-29-2018 10-29-50 AM)/VIDEO_00-male-surprise_20180516_091529_219393302 050.jpg', '/media/amogh/Stuff/CMU/datasets/bagamoyo_data/bagamoyo_frames_folder_wise/VIDEO_00-male-surprise_20180516_091529_219393302 (5-29-2018 10-29-50 AM)/VIDEO_00-male-surprise_20180516_091529_219393302 060.jpg', '/media/amogh/Stuff/CMU/datasets/bagamoyo_data/bagamoyo_frames_folder_wise/VIDEO_00-male-surprise_20180516_091529_219393302 (5-29-2018 10-29-50 AM)/VIDEO_00-male-surprise_20180516_091529_219393302 070.jpg', '/media/amogh/Stuff/CMU/datasets/bagamoyo_data/bagamoyo_frames_folder_wise/VIDEO_00-male-surprise_20180516_091529_219393302 (5-29-2018 10-29-50 AM)/VIDEO_00-male-surprise_20180516_091529_219393302 080.jpg', '/media/amogh/Stuff/CMU/datasets/bagamoyo_data/bagamoyo_frames_folder_wise/VIDEO_00-male-surprise_20180516_091529_219393302 (5-29-2018 10-29-50 AM)/VIDEO_00-male-surprise_20180516_091529_219393302 090.jpg', '/media/amogh/Stuff/CMU/datasets/bagamoyo_data/bagamoyo_frames_folder_wise/VIDEO_00-male-surprise_20180516_091529_219393302 (5-29-2018 10-29-50 AM)/VIDEO_00-male-surprise_20180516_091529_219393302 031.jpg', '/media/amogh/Stuff/CMU/datasets/bagamoyo_data/bagamoyo_frames_folder_wise/VIDEO_00-male-surprise_20180516_091529_219393302 (5-29-2018 10-29-50 AM)/VIDEO_00-male-surprise_20180516_091529_219393302 032.jpg', '/media/amogh/Stuff/CMU/datasets/bagamoyo_data/bagamoyo_frames_folder_wise/VIDEO_00-male-surprise_20180516_091529_219393302 (5-29-2018 10-29-50 AM)/VIDEO_00-male-surprise_20180516_091529_219393302 033.jpg', '/media/amogh/Stuff/CMU/datasets/bagamoyo_data/bagamoyo_frames_folder_wise/VIDEO_00-male-surprise_20180516_091529_219393302 (5-29-2018 10-29-50 AM)/VIDEO_00-male-surprise_20180516_091529_219393302 034.jpg', '/media/amogh/Stuff/CMU/datasets/bagamoyo_data/bagamoyo_frames_folder_wise/VIDEO_00-male-surprise_20180516_091529_219393302 (5-29-2018 10-29-50 AM)/VIDEO_00-male-surprise_20180516_091529_219393302 035.jpg', '/media/amogh/Stuff/CMU/datasets/bagamoyo_data/bagamoyo_frames_folder_wise/VIDEO_00-male-surprise_20180516_091529_219393302 (5-29-2018 10-29-50 AM)/VIDEO_00-male-surprise_20180516_091529_219393302 036.jpg', '/media/amogh/Stuff/CMU/datasets/bagamoyo_data/bagamoyo_frames_folder_wise/VIDEO_00-male-surprise_20180516_091529_219393302 (5-29-2018 10-29-50 AM)/VIDEO_00-male-surprise_20180516_091529_219393302 037.jpg', '/media/amogh/Stuff/CMU/datasets/bagamoyo_data/bagamoyo_frames_folder_wise/VIDEO_00-male-surprise_20180516_091529_219393302 (5-29-2018 10-29-50 AM)/VIDEO_00-male-surprise_20180516_091529_219393302 038.jpg', '/media/amogh/Stuff/CMU/datasets/bagamoyo_data/bagamoyo_frames_folder_wise/VIDEO_00-male-surprise_20180516_091529_219393302 (5-29-2018 10-29-50 AM)/VIDEO_00-male-surprise_20180516_091529_219393302 039.jpg', '/media/amogh/Stuff/CMU/datasets/bagamoyo_data/bagamoyo_frames_folder_wise/VIDEO_00-male-surprise_20180516_091529_219393302 (5-29-2018 10-29-50 AM)/VIDEO_00-male-surprise_20180516_091529_219393302 041.jpg', '/media/amogh/Stuff/CMU/datasets/bagamoyo_data/bagamoyo_frames_folder_wise/VIDEO_00-male-surprise_20180516_091529_219393302 (5-29-2018 10-29-50 AM)/VIDEO_00-male-surprise_20180516_091529_219393302 042.jpg', '/media/amogh/Stuff/CMU/datasets/bagamoyo_data/bagamoyo_frames_folder_wise/VIDEO_00-male-surprise_20180516_091529_219393302 (5-29-2018 10-29-50 AM)/VIDEO_00-male-surprise_20180516_091529_219393302 043.jpg', '/media/amogh/Stuff/CMU/datasets/bagamoyo_data/bagamoyo_frames_folder_wise/VIDEO_00-male-surprise_20180516_091529_219393302 (5-29-2018 10-29-50 AM)/VIDEO_00-male-surprise_20180516_091529_219393302 044.jpg', '/media/amogh/Stuff/CMU/datasets/bagamoyo_data/bagamoyo_frames_folder_wise/VIDEO_00-male-surprise_20180516_091529_219393302 (5-29-2018 10-29-50 AM)/VIDEO_00-male-surprise_20180516_091529_219393302 045.jpg', '/media/amogh/Stuff/CMU/datasets/bagamoyo_data/bagamoyo_frames_folder_wise/VIDEO_00-male-surprise_20180516_091529_219393302 (5-29-2018 10-29-50 AM)/VIDEO_00-male-surprise_20180516_091529_219393302 046.jpg', '/media/amogh/Stuff/CMU/datasets/bagamoyo_data/bagamoyo_frames_folder_wise/VIDEO_00-male-surprise_20180516_091529_219393302 (5-29-2018 10-29-50 AM)/VIDEO_00-male-surprise_20180516_091529_219393302 047.jpg', '/media/amogh/Stuff/CMU/datasets/bagamoyo_data/bagamoyo_frames_folder_wise/VIDEO_00-male-surprise_20180516_091529_219393302 (5-29-2018 10-29-50 AM)/VIDEO_00-male-surprise_20180516_091529_219393302 048.jpg', '/media/amogh/Stuff/CMU/datasets/bagamoyo_data/bagamoyo_frames_folder_wise/VIDEO_00-male-surprise_20180516_091529_219393302 (5-29-2018 10-29-50 AM)/VIDEO_00-male-surprise_20180516_091529_219393302 049.jpg', '/media/amogh/Stuff/CMU/datasets/bagamoyo_data/bagamoyo_frames_folder_wise/VIDEO_00-male-surprise_20180516_091529_219393302 (5-29-2018 10-29-50 AM)/VIDEO_00-male-surprise_20180516_091529_219393302 051.jpg', '/media/amogh/Stuff/CMU/datasets/bagamoyo_data/bagamoyo_frames_folder_wise/VIDEO_00-male-surprise_20180516_091529_219393302 (5-29-2018 10-29-50 AM)/VIDEO_00-male-surprise_20180516_091529_219393302 052.jpg', '/media/amogh/Stuff/CMU/datasets/bagamoyo_data/bagamoyo_frames_folder_wise/VIDEO_00-male-surprise_20180516_091529_219393302 (5-29-2018 10-29-50 AM)/VIDEO_00-male-surprise_20180516_091529_219393302 053.jpg', '/media/amogh/Stuff/CMU/datasets/bagamoyo_data/bagamoyo_frames_folder_wise/VIDEO_00-male-surprise_20180516_091529_219393302 (5-29-2018 10-29-50 AM)/VIDEO_00-male-surprise_20180516_091529_219393302 054.jpg', '/media/amogh/Stuff/CMU/datasets/bagamoyo_data/bagamoyo_frames_folder_wise/VIDEO_00-male-surprise_20180516_091529_219393302 (5-29-2018 10-29-50 AM)/VIDEO_00-male-surprise_20180516_091529_219393302 055.jpg', '/media/amogh/Stuff/CMU/datasets/bagamoyo_data/bagamoyo_frames_folder_wise/VIDEO_00-male-surprise_20180516_091529_219393302 (5-29-2018 10-29-50 AM)/VIDEO_00-male-surprise_20180516_091529_219393302 056.jpg', '/media/amogh/Stuff/CMU/datasets/bagamoyo_data/bagamoyo_frames_folder_wise/VIDEO_00-male-surprise_20180516_091529_219393302 (5-29-2018 10-29-50 AM)/VIDEO_00-male-surprise_20180516_091529_219393302 057.jpg', '/media/amogh/Stuff/CMU/datasets/bagamoyo_data/bagamoyo_frames_folder_wise/VIDEO_00-male-surprise_20180516_091529_219393302 (5-29-2018 10-29-50 AM)/VIDEO_00-male-surprise_20180516_091529_219393302 058.jpg', '/media/amogh/Stuff/CMU/datasets/bagamoyo_data/bagamoyo_frames_folder_wise/VIDEO_00-male-surprise_20180516_091529_219393302 (5-29-2018 10-29-50 AM)/VIDEO_00-male-surprise_20180516_091529_219393302 059.jpg', '/media/amogh/Stuff/CMU/datasets/bagamoyo_data/bagamoyo_frames_folder_wise/VIDEO_00-male-surprise_20180516_091529_219393302 (5-29-2018 10-29-50 AM)/VIDEO_00-male-surprise_20180516_091529_219393302 061.jpg', '/media/amogh/Stuff/CMU/datasets/bagamoyo_data/bagamoyo_frames_folder_wise/VIDEO_00-male-surprise_20180516_091529_219393302 (5-29-2018 10-29-50 AM)/VIDEO_00-male-surprise_20180516_091529_219393302 062.jpg', '/media/amogh/Stuff/CMU/datasets/bagamoyo_data/bagamoyo_frames_folder_wise/VIDEO_00-male-surprise_20180516_091529_219393302 (5-29-2018 10-29-50 AM)/VIDEO_00-male-surprise_20180516_091529_219393302 063.jpg', '/media/amogh/Stuff/CMU/datasets/bagamoyo_data/bagamoyo_frames_folder_wise/VIDEO_00-male-surprise_20180516_091529_219393302 (5-29-2018 10-29-50 AM)/VIDEO_00-male-surprise_20180516_091529_219393302 064.jpg', '/media/amogh/Stuff/CMU/datasets/bagamoyo_data/bagamoyo_frames_folder_wise/VIDEO_00-male-surprise_20180516_091529_219393302 (5-29-2018 10-29-50 AM)/VIDEO_00-male-surprise_20180516_091529_219393302 065.jpg', '/media/amogh/Stuff/CMU/datasets/bagamoyo_data/bagamoyo_frames_folder_wise/VIDEO_00-male-surprise_20180516_091529_219393302 (5-29-2018 10-29-50 AM)/VIDEO_00-male-surprise_20180516_091529_219393302 066.jpg', '/media/amogh/Stuff/CMU/datasets/bagamoyo_data/bagamoyo_frames_folder_wise/VIDEO_00-male-surprise_20180516_091529_219393302 (5-29-2018 10-29-50 AM)/VIDEO_00-male-surprise_20180516_091529_219393302 067.jpg', '/media/amogh/Stuff/CMU/datasets/bagamoyo_data/bagamoyo_frames_folder_wise/VIDEO_00-male-surprise_20180516_091529_219393302 (5-29-2018 10-29-50 AM)/VIDEO_00-male-surprise_20180516_091529_219393302 068.jpg', '/media/amogh/Stuff/CMU/datasets/bagamoyo_data/bagamoyo_frames_folder_wise/VIDEO_00-male-surprise_20180516_091529_219393302 (5-29-2018 10-29-50 AM)/VIDEO_00-male-surprise_20180516_091529_219393302 069.jpg', '/media/amogh/Stuff/CMU/datasets/bagamoyo_data/bagamoyo_frames_folder_wise/VIDEO_00-male-surprise_20180516_091529_219393302 (5-29-2018 10-29-50 AM)/VIDEO_00-male-surprise_20180516_091529_219393302 071.jpg', '/media/amogh/Stuff/CMU/datasets/bagamoyo_data/bagamoyo_frames_folder_wise/VIDEO_00-male-surprise_20180516_091529_219393302 (5-29-2018 10-29-50 AM)/VIDEO_00-male-surprise_20180516_091529_219393302 072.jpg', '/media/amogh/Stuff/CMU/datasets/bagamoyo_data/bagamoyo_frames_folder_wise/VIDEO_00-male-surprise_20180516_091529_219393302 (5-29-2018 10-29-50 AM)/VIDEO_00-male-surprise_20180516_091529_219393302 073.jpg', '/media/amogh/Stuff/CMU/datasets/bagamoyo_data/bagamoyo_frames_folder_wise/VIDEO_00-male-surprise_20180516_091529_219393302 (5-29-2018 10-29-50 AM)/VIDEO_00-male-surprise_20180516_091529_219393302 074.jpg', '/media/amogh/Stuff/CMU/datasets/bagamoyo_data/bagamoyo_frames_folder_wise/VIDEO_00-male-surprise_20180516_091529_219393302 (5-29-2018 10-29-50 AM)/VIDEO_00-male-surprise_20180516_091529_219393302 075.jpg', '/media/amogh/Stuff/CMU/datasets/bagamoyo_data/bagamoyo_frames_folder_wise/VIDEO_00-male-surprise_20180516_091529_219393302 (5-29-2018 10-29-50 AM)/VIDEO_00-male-surprise_20180516_091529_219393302 076.jpg', '/media/amogh/Stuff/CMU/datasets/bagamoyo_data/bagamoyo_frames_folder_wise/VIDEO_00-male-surprise_20180516_091529_219393302 (5-29-2018 10-29-50 AM)/VIDEO_00-male-surprise_20180516_091529_219393302 077.jpg', '/media/amogh/Stuff/CMU/datasets/bagamoyo_data/bagamoyo_frames_folder_wise/VIDEO_00-male-surprise_20180516_091529_219393302 (5-29-2018 10-29-50 AM)/VIDEO_00-male-surprise_20180516_091529_219393302 078.jpg', '/media/amogh/Stuff/CMU/datasets/bagamoyo_data/bagamoyo_frames_folder_wise/VIDEO_00-male-surprise_20180516_091529_219393302 (5-29-2018 10-29-50 AM)/VIDEO_00-male-surprise_20180516_091529_219393302 079.jpg', '/media/amogh/Stuff/CMU/datasets/bagamoyo_data/bagamoyo_frames_folder_wise/VIDEO_00-male-surprise_20180516_091529_219393302 (5-29-2018 10-29-50 AM)/VIDEO_00-male-surprise_20180516_091529_219393302 081.jpg', '/media/amogh/Stuff/CMU/datasets/bagamoyo_data/bagamoyo_frames_folder_wise/VIDEO_00-male-surprise_20180516_091529_219393302 (5-29-2018 10-29-50 AM)/VIDEO_00-male-surprise_20180516_091529_219393302 082.jpg', '/media/amogh/Stuff/CMU/datasets/bagamoyo_data/bagamoyo_frames_folder_wise/VIDEO_00-male-surprise_20180516_091529_219393302 (5-29-2018 10-29-50 AM)/VIDEO_00-male-surprise_20180516_091529_219393302 083.jpg', '/media/amogh/Stuff/CMU/datasets/bagamoyo_data/bagamoyo_frames_folder_wise/VIDEO_00-male-surprise_20180516_091529_219393302 (5-29-2018 10-29-50 AM)/VIDEO_00-male-surprise_20180516_091529_219393302 084.jpg', '/media/amogh/Stuff/CMU/datasets/bagamoyo_data/bagamoyo_frames_folder_wise/VIDEO_00-male-surprise_20180516_091529_219393302 (5-29-2018 10-29-50 AM)/VIDEO_00-male-surprise_20180516_091529_219393302 085.jpg', '/media/amogh/Stuff/CMU/datasets/bagamoyo_data/bagamoyo_frames_folder_wise/VIDEO_00-male-surprise_20180516_091529_219393302 (5-29-2018 10-29-50 AM)/VIDEO_00-male-surprise_20180516_091529_219393302 086.jpg', '/media/amogh/Stuff/CMU/datasets/bagamoyo_data/bagamoyo_frames_folder_wise/VIDEO_00-male-surprise_20180516_091529_219393302 (5-29-2018 10-29-50 AM)/VIDEO_00-male-surprise_20180516_091529_219393302 087.jpg', '/media/amogh/Stuff/CMU/datasets/bagamoyo_data/bagamoyo_frames_folder_wise/VIDEO_00-male-surprise_20180516_091529_219393302 (5-29-2018 10-29-50 AM)/VIDEO_00-male-surprise_20180516_091529_219393302 088.jpg', '/media/amogh/Stuff/CMU/datasets/bagamoyo_data/bagamoyo_frames_folder_wise/VIDEO_00-male-surprise_20180516_091529_219393302 (5-29-2018 10-29-50 AM)/VIDEO_00-male-surprise_20180516_091529_219393302 089.jpg', '/media/amogh/Stuff/CMU/datasets/bagamoyo_data/bagamoyo_frames_folder_wise/VIDEO_00-male-surprise_20180516_091529_219393302 (5-29-2018 10-29-50 AM)/VIDEO_00-male-surprise_20180516_091529_219393302 091.jpg', '/media/amogh/Stuff/CMU/datasets/bagamoyo_data/bagamoyo_frames_folder_wise/VIDEO_00-male-surprise_20180516_091529_219393302 (5-29-2018 10-29-50 AM)/VIDEO_00-male-surprise_20180516_091529_219393302 092.jpg', '/media/amogh/Stuff/CMU/datasets/bagamoyo_data/bagamoyo_frames_folder_wise/VIDEO_00-male-surprise_20180516_091529_219393302 (5-29-2018 10-29-50 AM)/VIDEO_00-male-surprise_20180516_091529_219393302 093.jpg', '/media/amogh/Stuff/CMU/datasets/bagamoyo_data/bagamoyo_frames_folder_wise/VIDEO_00-male-surprise_20180516_091529_219393302 (5-29-2018 10-29-50 AM)/VIDEO_00-male-surprise_20180516_091529_219393302 094.jpg', '/media/amogh/Stuff/CMU/datasets/bagamoyo_data/bagamoyo_frames_folder_wise/VIDEO_00-male-surprise_20180516_091529_219393302 (5-29-2018 10-29-50 AM)/VIDEO_00-male-surprise_20180516_091529_219393302 095.jpg', '/media/amogh/Stuff/CMU/datasets/bagamoyo_data/bagamoyo_frames_folder_wise/VIDEO_00-male-surprise_20180516_091529_219393302 (5-29-2018 10-29-50 AM)/VIDEO_00-male-surprise_20180516_091529_219393302 096.jpg', '/media/amogh/Stuff/CMU/datasets/bagamoyo_data/bagamoyo_frames_folder_wise/VIDEO_00-male-surprise_20180516_091529_219393302 (5-29-2018 10-29-50 AM)/VIDEO_00-male-surprise_20180516_091529_219393302 097.jpg', '/media/amogh/Stuff/CMU/datasets/bagamoyo_data/bagamoyo_frames_folder_wise/VIDEO_00-male-surprise_20180516_091529_219393302 (5-29-2018 10-29-50 AM)/VIDEO_00-male-surprise_20180516_091529_219393302 098.jpg', '/media/amogh/Stuff/CMU/datasets/bagamoyo_data/bagamoyo_frames_folder_wise/VIDEO_00-male-surprise_20180516_091529_219393302 (5-29-2018 10-29-50 AM)/VIDEO_00-male-surprise_20180516_091529_219393302 099.jpg', '/media/amogh/Stuff/CMU/datasets/bagamoyo_data/bagamoyo_frames_folder_wise/VIDEO_00-male-surprise_20180516_091529_219393302 (5-29-2018 10-29-50 AM)/VIDEO_00-male-surprise_20180516_091529_219393302 100.jpg', '/media/amogh/Stuff/CMU/datasets/bagamoyo_data/bagamoyo_frames_folder_wise/VIDEO_00-male-surprise_20180516_091529_219393302 (5-29-2018 10-29-50 AM)/VIDEO_00-male-surprise_20180516_091529_219393302 101.jpg', '/media/amogh/Stuff/CMU/datasets/bagamoyo_data/bagamoyo_frames_folder_wise/VIDEO_00-male-surprise_20180516_091529_219393302 (5-29-2018 10-29-50 AM)/VIDEO_00-male-surprise_20180516_091529_219393302 102.jpg', '/media/amogh/Stuff/CMU/datasets/bagamoyo_data/bagamoyo_frames_folder_wise/VIDEO_00-male-surprise_20180516_091529_219393302 (5-29-2018 10-29-50 AM)/VIDEO_00-male-surprise_20180516_091529_219393302 103.jpg', '/media/amogh/Stuff/CMU/datasets/bagamoyo_data/bagamoyo_frames_folder_wise/VIDEO_00-male-surprise_20180516_091529_219393302 (5-29-2018 10-29-50 AM)/VIDEO_00-male-surprise_20180516_091529_219393302 104.jpg']\n",
      "['/media/amogh/Stuff/CMU/datasets/bagamoyo_data/bagamoyo_frames_folder_wise/VIDEO_00-male-surprise_20180516_091541_1754978908 (5-27-2018 5-58-50 AM)/VIDEO_00-male-surprise_20180516_091541_1754978908 001.jpg', '/media/amogh/Stuff/CMU/datasets/bagamoyo_data/bagamoyo_frames_folder_wise/VIDEO_00-male-surprise_20180516_091541_1754978908 (5-27-2018 5-58-50 AM)/VIDEO_00-male-surprise_20180516_091541_1754978908 002.jpg', '/media/amogh/Stuff/CMU/datasets/bagamoyo_data/bagamoyo_frames_folder_wise/VIDEO_00-male-surprise_20180516_091541_1754978908 (5-27-2018 5-58-50 AM)/VIDEO_00-male-surprise_20180516_091541_1754978908 003.jpg', '/media/amogh/Stuff/CMU/datasets/bagamoyo_data/bagamoyo_frames_folder_wise/VIDEO_00-male-surprise_20180516_091541_1754978908 (5-27-2018 5-58-50 AM)/VIDEO_00-male-surprise_20180516_091541_1754978908 004.jpg', '/media/amogh/Stuff/CMU/datasets/bagamoyo_data/bagamoyo_frames_folder_wise/VIDEO_00-male-surprise_20180516_091541_1754978908 (5-27-2018 5-58-50 AM)/VIDEO_00-male-surprise_20180516_091541_1754978908 005.jpg', '/media/amogh/Stuff/CMU/datasets/bagamoyo_data/bagamoyo_frames_folder_wise/VIDEO_00-male-surprise_20180516_091541_1754978908 (5-27-2018 5-58-50 AM)/VIDEO_00-male-surprise_20180516_091541_1754978908 006.jpg', '/media/amogh/Stuff/CMU/datasets/bagamoyo_data/bagamoyo_frames_folder_wise/VIDEO_00-male-surprise_20180516_091541_1754978908 (5-27-2018 5-58-50 AM)/VIDEO_00-male-surprise_20180516_091541_1754978908 007.jpg', '/media/amogh/Stuff/CMU/datasets/bagamoyo_data/bagamoyo_frames_folder_wise/VIDEO_00-male-surprise_20180516_091541_1754978908 (5-27-2018 5-58-50 AM)/VIDEO_00-male-surprise_20180516_091541_1754978908 008.jpg', '/media/amogh/Stuff/CMU/datasets/bagamoyo_data/bagamoyo_frames_folder_wise/VIDEO_00-male-surprise_20180516_091541_1754978908 (5-27-2018 5-58-50 AM)/VIDEO_00-male-surprise_20180516_091541_1754978908 009.jpg', '/media/amogh/Stuff/CMU/datasets/bagamoyo_data/bagamoyo_frames_folder_wise/VIDEO_00-male-surprise_20180516_091541_1754978908 (5-27-2018 5-58-50 AM)/VIDEO_00-male-surprise_20180516_091541_1754978908 011.jpg', '/media/amogh/Stuff/CMU/datasets/bagamoyo_data/bagamoyo_frames_folder_wise/VIDEO_00-male-surprise_20180516_091541_1754978908 (5-27-2018 5-58-50 AM)/VIDEO_00-male-surprise_20180516_091541_1754978908 012.jpg', '/media/amogh/Stuff/CMU/datasets/bagamoyo_data/bagamoyo_frames_folder_wise/VIDEO_00-male-surprise_20180516_091541_1754978908 (5-27-2018 5-58-50 AM)/VIDEO_00-male-surprise_20180516_091541_1754978908 013.jpg', '/media/amogh/Stuff/CMU/datasets/bagamoyo_data/bagamoyo_frames_folder_wise/VIDEO_00-male-surprise_20180516_091541_1754978908 (5-27-2018 5-58-50 AM)/VIDEO_00-male-surprise_20180516_091541_1754978908 014.jpg', '/media/amogh/Stuff/CMU/datasets/bagamoyo_data/bagamoyo_frames_folder_wise/VIDEO_00-male-surprise_20180516_091541_1754978908 (5-27-2018 5-58-50 AM)/VIDEO_00-male-surprise_20180516_091541_1754978908 015.jpg', '/media/amogh/Stuff/CMU/datasets/bagamoyo_data/bagamoyo_frames_folder_wise/VIDEO_00-male-surprise_20180516_091541_1754978908 (5-27-2018 5-58-50 AM)/VIDEO_00-male-surprise_20180516_091541_1754978908 016.jpg', '/media/amogh/Stuff/CMU/datasets/bagamoyo_data/bagamoyo_frames_folder_wise/VIDEO_00-male-surprise_20180516_091541_1754978908 (5-27-2018 5-58-50 AM)/VIDEO_00-male-surprise_20180516_091541_1754978908 017.jpg', '/media/amogh/Stuff/CMU/datasets/bagamoyo_data/bagamoyo_frames_folder_wise/VIDEO_00-male-surprise_20180516_091541_1754978908 (5-27-2018 5-58-50 AM)/VIDEO_00-male-surprise_20180516_091541_1754978908 018.jpg', '/media/amogh/Stuff/CMU/datasets/bagamoyo_data/bagamoyo_frames_folder_wise/VIDEO_00-male-surprise_20180516_091541_1754978908 (5-27-2018 5-58-50 AM)/VIDEO_00-male-surprise_20180516_091541_1754978908 019.jpg', '/media/amogh/Stuff/CMU/datasets/bagamoyo_data/bagamoyo_frames_folder_wise/VIDEO_00-male-surprise_20180516_091541_1754978908 (5-27-2018 5-58-50 AM)/VIDEO_00-male-surprise_20180516_091541_1754978908 021.jpg', '/media/amogh/Stuff/CMU/datasets/bagamoyo_data/bagamoyo_frames_folder_wise/VIDEO_00-male-surprise_20180516_091541_1754978908 (5-27-2018 5-58-50 AM)/VIDEO_00-male-surprise_20180516_091541_1754978908 022.jpg', '/media/amogh/Stuff/CMU/datasets/bagamoyo_data/bagamoyo_frames_folder_wise/VIDEO_00-male-surprise_20180516_091541_1754978908 (5-27-2018 5-58-50 AM)/VIDEO_00-male-surprise_20180516_091541_1754978908 023.jpg', '/media/amogh/Stuff/CMU/datasets/bagamoyo_data/bagamoyo_frames_folder_wise/VIDEO_00-male-surprise_20180516_091541_1754978908 (5-27-2018 5-58-50 AM)/VIDEO_00-male-surprise_20180516_091541_1754978908 024.jpg', '/media/amogh/Stuff/CMU/datasets/bagamoyo_data/bagamoyo_frames_folder_wise/VIDEO_00-male-surprise_20180516_091541_1754978908 (5-27-2018 5-58-50 AM)/VIDEO_00-male-surprise_20180516_091541_1754978908 025.jpg', '/media/amogh/Stuff/CMU/datasets/bagamoyo_data/bagamoyo_frames_folder_wise/VIDEO_00-male-surprise_20180516_091541_1754978908 (5-27-2018 5-58-50 AM)/VIDEO_00-male-surprise_20180516_091541_1754978908 026.jpg', '/media/amogh/Stuff/CMU/datasets/bagamoyo_data/bagamoyo_frames_folder_wise/VIDEO_00-male-surprise_20180516_091541_1754978908 (5-27-2018 5-58-50 AM)/VIDEO_00-male-surprise_20180516_091541_1754978908 027.jpg', '/media/amogh/Stuff/CMU/datasets/bagamoyo_data/bagamoyo_frames_folder_wise/VIDEO_00-male-surprise_20180516_091541_1754978908 (5-27-2018 5-58-50 AM)/VIDEO_00-male-surprise_20180516_091541_1754978908 028.jpg', '/media/amogh/Stuff/CMU/datasets/bagamoyo_data/bagamoyo_frames_folder_wise/VIDEO_00-male-surprise_20180516_091541_1754978908 (5-27-2018 5-58-50 AM)/VIDEO_00-male-surprise_20180516_091541_1754978908 029.jpg', '/media/amogh/Stuff/CMU/datasets/bagamoyo_data/bagamoyo_frames_folder_wise/VIDEO_00-male-surprise_20180516_091541_1754978908 (5-27-2018 5-58-50 AM)/VIDEO_00-male-surprise_20180516_091541_1754978908 010.jpg', '/media/amogh/Stuff/CMU/datasets/bagamoyo_data/bagamoyo_frames_folder_wise/VIDEO_00-male-surprise_20180516_091541_1754978908 (5-27-2018 5-58-50 AM)/VIDEO_00-male-surprise_20180516_091541_1754978908 020.jpg', '/media/amogh/Stuff/CMU/datasets/bagamoyo_data/bagamoyo_frames_folder_wise/VIDEO_00-male-surprise_20180516_091541_1754978908 (5-27-2018 5-58-50 AM)/VIDEO_00-male-surprise_20180516_091541_1754978908 030.jpg', '/media/amogh/Stuff/CMU/datasets/bagamoyo_data/bagamoyo_frames_folder_wise/VIDEO_00-male-surprise_20180516_091541_1754978908 (5-27-2018 5-58-50 AM)/VIDEO_00-male-surprise_20180516_091541_1754978908 040.jpg', '/media/amogh/Stuff/CMU/datasets/bagamoyo_data/bagamoyo_frames_folder_wise/VIDEO_00-male-surprise_20180516_091541_1754978908 (5-27-2018 5-58-50 AM)/VIDEO_00-male-surprise_20180516_091541_1754978908 050.jpg', '/media/amogh/Stuff/CMU/datasets/bagamoyo_data/bagamoyo_frames_folder_wise/VIDEO_00-male-surprise_20180516_091541_1754978908 (5-27-2018 5-58-50 AM)/VIDEO_00-male-surprise_20180516_091541_1754978908 060.jpg', '/media/amogh/Stuff/CMU/datasets/bagamoyo_data/bagamoyo_frames_folder_wise/VIDEO_00-male-surprise_20180516_091541_1754978908 (5-27-2018 5-58-50 AM)/VIDEO_00-male-surprise_20180516_091541_1754978908 070.jpg', '/media/amogh/Stuff/CMU/datasets/bagamoyo_data/bagamoyo_frames_folder_wise/VIDEO_00-male-surprise_20180516_091541_1754978908 (5-27-2018 5-58-50 AM)/VIDEO_00-male-surprise_20180516_091541_1754978908 080.jpg', '/media/amogh/Stuff/CMU/datasets/bagamoyo_data/bagamoyo_frames_folder_wise/VIDEO_00-male-surprise_20180516_091541_1754978908 (5-27-2018 5-58-50 AM)/VIDEO_00-male-surprise_20180516_091541_1754978908 090.jpg', '/media/amogh/Stuff/CMU/datasets/bagamoyo_data/bagamoyo_frames_folder_wise/VIDEO_00-male-surprise_20180516_091541_1754978908 (5-27-2018 5-58-50 AM)/VIDEO_00-male-surprise_20180516_091541_1754978908 031.jpg', '/media/amogh/Stuff/CMU/datasets/bagamoyo_data/bagamoyo_frames_folder_wise/VIDEO_00-male-surprise_20180516_091541_1754978908 (5-27-2018 5-58-50 AM)/VIDEO_00-male-surprise_20180516_091541_1754978908 032.jpg', '/media/amogh/Stuff/CMU/datasets/bagamoyo_data/bagamoyo_frames_folder_wise/VIDEO_00-male-surprise_20180516_091541_1754978908 (5-27-2018 5-58-50 AM)/VIDEO_00-male-surprise_20180516_091541_1754978908 033.jpg', '/media/amogh/Stuff/CMU/datasets/bagamoyo_data/bagamoyo_frames_folder_wise/VIDEO_00-male-surprise_20180516_091541_1754978908 (5-27-2018 5-58-50 AM)/VIDEO_00-male-surprise_20180516_091541_1754978908 034.jpg', '/media/amogh/Stuff/CMU/datasets/bagamoyo_data/bagamoyo_frames_folder_wise/VIDEO_00-male-surprise_20180516_091541_1754978908 (5-27-2018 5-58-50 AM)/VIDEO_00-male-surprise_20180516_091541_1754978908 035.jpg', '/media/amogh/Stuff/CMU/datasets/bagamoyo_data/bagamoyo_frames_folder_wise/VIDEO_00-male-surprise_20180516_091541_1754978908 (5-27-2018 5-58-50 AM)/VIDEO_00-male-surprise_20180516_091541_1754978908 036.jpg', '/media/amogh/Stuff/CMU/datasets/bagamoyo_data/bagamoyo_frames_folder_wise/VIDEO_00-male-surprise_20180516_091541_1754978908 (5-27-2018 5-58-50 AM)/VIDEO_00-male-surprise_20180516_091541_1754978908 037.jpg', '/media/amogh/Stuff/CMU/datasets/bagamoyo_data/bagamoyo_frames_folder_wise/VIDEO_00-male-surprise_20180516_091541_1754978908 (5-27-2018 5-58-50 AM)/VIDEO_00-male-surprise_20180516_091541_1754978908 038.jpg', '/media/amogh/Stuff/CMU/datasets/bagamoyo_data/bagamoyo_frames_folder_wise/VIDEO_00-male-surprise_20180516_091541_1754978908 (5-27-2018 5-58-50 AM)/VIDEO_00-male-surprise_20180516_091541_1754978908 039.jpg', '/media/amogh/Stuff/CMU/datasets/bagamoyo_data/bagamoyo_frames_folder_wise/VIDEO_00-male-surprise_20180516_091541_1754978908 (5-27-2018 5-58-50 AM)/VIDEO_00-male-surprise_20180516_091541_1754978908 041.jpg', '/media/amogh/Stuff/CMU/datasets/bagamoyo_data/bagamoyo_frames_folder_wise/VIDEO_00-male-surprise_20180516_091541_1754978908 (5-27-2018 5-58-50 AM)/VIDEO_00-male-surprise_20180516_091541_1754978908 042.jpg', '/media/amogh/Stuff/CMU/datasets/bagamoyo_data/bagamoyo_frames_folder_wise/VIDEO_00-male-surprise_20180516_091541_1754978908 (5-27-2018 5-58-50 AM)/VIDEO_00-male-surprise_20180516_091541_1754978908 043.jpg', '/media/amogh/Stuff/CMU/datasets/bagamoyo_data/bagamoyo_frames_folder_wise/VIDEO_00-male-surprise_20180516_091541_1754978908 (5-27-2018 5-58-50 AM)/VIDEO_00-male-surprise_20180516_091541_1754978908 044.jpg', '/media/amogh/Stuff/CMU/datasets/bagamoyo_data/bagamoyo_frames_folder_wise/VIDEO_00-male-surprise_20180516_091541_1754978908 (5-27-2018 5-58-50 AM)/VIDEO_00-male-surprise_20180516_091541_1754978908 045.jpg', '/media/amogh/Stuff/CMU/datasets/bagamoyo_data/bagamoyo_frames_folder_wise/VIDEO_00-male-surprise_20180516_091541_1754978908 (5-27-2018 5-58-50 AM)/VIDEO_00-male-surprise_20180516_091541_1754978908 046.jpg', '/media/amogh/Stuff/CMU/datasets/bagamoyo_data/bagamoyo_frames_folder_wise/VIDEO_00-male-surprise_20180516_091541_1754978908 (5-27-2018 5-58-50 AM)/VIDEO_00-male-surprise_20180516_091541_1754978908 047.jpg', '/media/amogh/Stuff/CMU/datasets/bagamoyo_data/bagamoyo_frames_folder_wise/VIDEO_00-male-surprise_20180516_091541_1754978908 (5-27-2018 5-58-50 AM)/VIDEO_00-male-surprise_20180516_091541_1754978908 048.jpg', '/media/amogh/Stuff/CMU/datasets/bagamoyo_data/bagamoyo_frames_folder_wise/VIDEO_00-male-surprise_20180516_091541_1754978908 (5-27-2018 5-58-50 AM)/VIDEO_00-male-surprise_20180516_091541_1754978908 049.jpg', '/media/amogh/Stuff/CMU/datasets/bagamoyo_data/bagamoyo_frames_folder_wise/VIDEO_00-male-surprise_20180516_091541_1754978908 (5-27-2018 5-58-50 AM)/VIDEO_00-male-surprise_20180516_091541_1754978908 051.jpg', '/media/amogh/Stuff/CMU/datasets/bagamoyo_data/bagamoyo_frames_folder_wise/VIDEO_00-male-surprise_20180516_091541_1754978908 (5-27-2018 5-58-50 AM)/VIDEO_00-male-surprise_20180516_091541_1754978908 052.jpg', '/media/amogh/Stuff/CMU/datasets/bagamoyo_data/bagamoyo_frames_folder_wise/VIDEO_00-male-surprise_20180516_091541_1754978908 (5-27-2018 5-58-50 AM)/VIDEO_00-male-surprise_20180516_091541_1754978908 053.jpg', '/media/amogh/Stuff/CMU/datasets/bagamoyo_data/bagamoyo_frames_folder_wise/VIDEO_00-male-surprise_20180516_091541_1754978908 (5-27-2018 5-58-50 AM)/VIDEO_00-male-surprise_20180516_091541_1754978908 054.jpg', '/media/amogh/Stuff/CMU/datasets/bagamoyo_data/bagamoyo_frames_folder_wise/VIDEO_00-male-surprise_20180516_091541_1754978908 (5-27-2018 5-58-50 AM)/VIDEO_00-male-surprise_20180516_091541_1754978908 055.jpg', '/media/amogh/Stuff/CMU/datasets/bagamoyo_data/bagamoyo_frames_folder_wise/VIDEO_00-male-surprise_20180516_091541_1754978908 (5-27-2018 5-58-50 AM)/VIDEO_00-male-surprise_20180516_091541_1754978908 056.jpg', '/media/amogh/Stuff/CMU/datasets/bagamoyo_data/bagamoyo_frames_folder_wise/VIDEO_00-male-surprise_20180516_091541_1754978908 (5-27-2018 5-58-50 AM)/VIDEO_00-male-surprise_20180516_091541_1754978908 057.jpg', '/media/amogh/Stuff/CMU/datasets/bagamoyo_data/bagamoyo_frames_folder_wise/VIDEO_00-male-surprise_20180516_091541_1754978908 (5-27-2018 5-58-50 AM)/VIDEO_00-male-surprise_20180516_091541_1754978908 058.jpg', '/media/amogh/Stuff/CMU/datasets/bagamoyo_data/bagamoyo_frames_folder_wise/VIDEO_00-male-surprise_20180516_091541_1754978908 (5-27-2018 5-58-50 AM)/VIDEO_00-male-surprise_20180516_091541_1754978908 059.jpg', '/media/amogh/Stuff/CMU/datasets/bagamoyo_data/bagamoyo_frames_folder_wise/VIDEO_00-male-surprise_20180516_091541_1754978908 (5-27-2018 5-58-50 AM)/VIDEO_00-male-surprise_20180516_091541_1754978908 061.jpg', '/media/amogh/Stuff/CMU/datasets/bagamoyo_data/bagamoyo_frames_folder_wise/VIDEO_00-male-surprise_20180516_091541_1754978908 (5-27-2018 5-58-50 AM)/VIDEO_00-male-surprise_20180516_091541_1754978908 062.jpg', '/media/amogh/Stuff/CMU/datasets/bagamoyo_data/bagamoyo_frames_folder_wise/VIDEO_00-male-surprise_20180516_091541_1754978908 (5-27-2018 5-58-50 AM)/VIDEO_00-male-surprise_20180516_091541_1754978908 063.jpg', '/media/amogh/Stuff/CMU/datasets/bagamoyo_data/bagamoyo_frames_folder_wise/VIDEO_00-male-surprise_20180516_091541_1754978908 (5-27-2018 5-58-50 AM)/VIDEO_00-male-surprise_20180516_091541_1754978908 064.jpg', '/media/amogh/Stuff/CMU/datasets/bagamoyo_data/bagamoyo_frames_folder_wise/VIDEO_00-male-surprise_20180516_091541_1754978908 (5-27-2018 5-58-50 AM)/VIDEO_00-male-surprise_20180516_091541_1754978908 065.jpg', '/media/amogh/Stuff/CMU/datasets/bagamoyo_data/bagamoyo_frames_folder_wise/VIDEO_00-male-surprise_20180516_091541_1754978908 (5-27-2018 5-58-50 AM)/VIDEO_00-male-surprise_20180516_091541_1754978908 066.jpg', '/media/amogh/Stuff/CMU/datasets/bagamoyo_data/bagamoyo_frames_folder_wise/VIDEO_00-male-surprise_20180516_091541_1754978908 (5-27-2018 5-58-50 AM)/VIDEO_00-male-surprise_20180516_091541_1754978908 067.jpg', '/media/amogh/Stuff/CMU/datasets/bagamoyo_data/bagamoyo_frames_folder_wise/VIDEO_00-male-surprise_20180516_091541_1754978908 (5-27-2018 5-58-50 AM)/VIDEO_00-male-surprise_20180516_091541_1754978908 068.jpg', '/media/amogh/Stuff/CMU/datasets/bagamoyo_data/bagamoyo_frames_folder_wise/VIDEO_00-male-surprise_20180516_091541_1754978908 (5-27-2018 5-58-50 AM)/VIDEO_00-male-surprise_20180516_091541_1754978908 069.jpg', '/media/amogh/Stuff/CMU/datasets/bagamoyo_data/bagamoyo_frames_folder_wise/VIDEO_00-male-surprise_20180516_091541_1754978908 (5-27-2018 5-58-50 AM)/VIDEO_00-male-surprise_20180516_091541_1754978908 071.jpg', '/media/amogh/Stuff/CMU/datasets/bagamoyo_data/bagamoyo_frames_folder_wise/VIDEO_00-male-surprise_20180516_091541_1754978908 (5-27-2018 5-58-50 AM)/VIDEO_00-male-surprise_20180516_091541_1754978908 072.jpg', '/media/amogh/Stuff/CMU/datasets/bagamoyo_data/bagamoyo_frames_folder_wise/VIDEO_00-male-surprise_20180516_091541_1754978908 (5-27-2018 5-58-50 AM)/VIDEO_00-male-surprise_20180516_091541_1754978908 073.jpg', '/media/amogh/Stuff/CMU/datasets/bagamoyo_data/bagamoyo_frames_folder_wise/VIDEO_00-male-surprise_20180516_091541_1754978908 (5-27-2018 5-58-50 AM)/VIDEO_00-male-surprise_20180516_091541_1754978908 074.jpg', '/media/amogh/Stuff/CMU/datasets/bagamoyo_data/bagamoyo_frames_folder_wise/VIDEO_00-male-surprise_20180516_091541_1754978908 (5-27-2018 5-58-50 AM)/VIDEO_00-male-surprise_20180516_091541_1754978908 075.jpg', '/media/amogh/Stuff/CMU/datasets/bagamoyo_data/bagamoyo_frames_folder_wise/VIDEO_00-male-surprise_20180516_091541_1754978908 (5-27-2018 5-58-50 AM)/VIDEO_00-male-surprise_20180516_091541_1754978908 076.jpg', '/media/amogh/Stuff/CMU/datasets/bagamoyo_data/bagamoyo_frames_folder_wise/VIDEO_00-male-surprise_20180516_091541_1754978908 (5-27-2018 5-58-50 AM)/VIDEO_00-male-surprise_20180516_091541_1754978908 077.jpg', '/media/amogh/Stuff/CMU/datasets/bagamoyo_data/bagamoyo_frames_folder_wise/VIDEO_00-male-surprise_20180516_091541_1754978908 (5-27-2018 5-58-50 AM)/VIDEO_00-male-surprise_20180516_091541_1754978908 078.jpg', '/media/amogh/Stuff/CMU/datasets/bagamoyo_data/bagamoyo_frames_folder_wise/VIDEO_00-male-surprise_20180516_091541_1754978908 (5-27-2018 5-58-50 AM)/VIDEO_00-male-surprise_20180516_091541_1754978908 079.jpg', '/media/amogh/Stuff/CMU/datasets/bagamoyo_data/bagamoyo_frames_folder_wise/VIDEO_00-male-surprise_20180516_091541_1754978908 (5-27-2018 5-58-50 AM)/VIDEO_00-male-surprise_20180516_091541_1754978908 081.jpg', '/media/amogh/Stuff/CMU/datasets/bagamoyo_data/bagamoyo_frames_folder_wise/VIDEO_00-male-surprise_20180516_091541_1754978908 (5-27-2018 5-58-50 AM)/VIDEO_00-male-surprise_20180516_091541_1754978908 082.jpg', '/media/amogh/Stuff/CMU/datasets/bagamoyo_data/bagamoyo_frames_folder_wise/VIDEO_00-male-surprise_20180516_091541_1754978908 (5-27-2018 5-58-50 AM)/VIDEO_00-male-surprise_20180516_091541_1754978908 083.jpg', '/media/amogh/Stuff/CMU/datasets/bagamoyo_data/bagamoyo_frames_folder_wise/VIDEO_00-male-surprise_20180516_091541_1754978908 (5-27-2018 5-58-50 AM)/VIDEO_00-male-surprise_20180516_091541_1754978908 084.jpg', '/media/amogh/Stuff/CMU/datasets/bagamoyo_data/bagamoyo_frames_folder_wise/VIDEO_00-male-surprise_20180516_091541_1754978908 (5-27-2018 5-58-50 AM)/VIDEO_00-male-surprise_20180516_091541_1754978908 085.jpg', '/media/amogh/Stuff/CMU/datasets/bagamoyo_data/bagamoyo_frames_folder_wise/VIDEO_00-male-surprise_20180516_091541_1754978908 (5-27-2018 5-58-50 AM)/VIDEO_00-male-surprise_20180516_091541_1754978908 086.jpg', '/media/amogh/Stuff/CMU/datasets/bagamoyo_data/bagamoyo_frames_folder_wise/VIDEO_00-male-surprise_20180516_091541_1754978908 (5-27-2018 5-58-50 AM)/VIDEO_00-male-surprise_20180516_091541_1754978908 087.jpg', '/media/amogh/Stuff/CMU/datasets/bagamoyo_data/bagamoyo_frames_folder_wise/VIDEO_00-male-surprise_20180516_091541_1754978908 (5-27-2018 5-58-50 AM)/VIDEO_00-male-surprise_20180516_091541_1754978908 088.jpg', '/media/amogh/Stuff/CMU/datasets/bagamoyo_data/bagamoyo_frames_folder_wise/VIDEO_00-male-surprise_20180516_091541_1754978908 (5-27-2018 5-58-50 AM)/VIDEO_00-male-surprise_20180516_091541_1754978908 089.jpg', '/media/amogh/Stuff/CMU/datasets/bagamoyo_data/bagamoyo_frames_folder_wise/VIDEO_00-male-surprise_20180516_091541_1754978908 (5-27-2018 5-58-50 AM)/VIDEO_00-male-surprise_20180516_091541_1754978908 091.jpg', '/media/amogh/Stuff/CMU/datasets/bagamoyo_data/bagamoyo_frames_folder_wise/VIDEO_00-male-surprise_20180516_091541_1754978908 (5-27-2018 5-58-50 AM)/VIDEO_00-male-surprise_20180516_091541_1754978908 092.jpg', '/media/amogh/Stuff/CMU/datasets/bagamoyo_data/bagamoyo_frames_folder_wise/VIDEO_00-male-surprise_20180516_091541_1754978908 (5-27-2018 5-58-50 AM)/VIDEO_00-male-surprise_20180516_091541_1754978908 093.jpg', '/media/amogh/Stuff/CMU/datasets/bagamoyo_data/bagamoyo_frames_folder_wise/VIDEO_00-male-surprise_20180516_091541_1754978908 (5-27-2018 5-58-50 AM)/VIDEO_00-male-surprise_20180516_091541_1754978908 094.jpg', '/media/amogh/Stuff/CMU/datasets/bagamoyo_data/bagamoyo_frames_folder_wise/VIDEO_00-male-surprise_20180516_091541_1754978908 (5-27-2018 5-58-50 AM)/VIDEO_00-male-surprise_20180516_091541_1754978908 095.jpg', '/media/amogh/Stuff/CMU/datasets/bagamoyo_data/bagamoyo_frames_folder_wise/VIDEO_00-male-surprise_20180516_091541_1754978908 (5-27-2018 5-58-50 AM)/VIDEO_00-male-surprise_20180516_091541_1754978908 096.jpg', '/media/amogh/Stuff/CMU/datasets/bagamoyo_data/bagamoyo_frames_folder_wise/VIDEO_00-male-surprise_20180516_091541_1754978908 (5-27-2018 5-58-50 AM)/VIDEO_00-male-surprise_20180516_091541_1754978908 097.jpg', '/media/amogh/Stuff/CMU/datasets/bagamoyo_data/bagamoyo_frames_folder_wise/VIDEO_00-male-surprise_20180516_091541_1754978908 (5-27-2018 5-58-50 AM)/VIDEO_00-male-surprise_20180516_091541_1754978908 098.jpg', '/media/amogh/Stuff/CMU/datasets/bagamoyo_data/bagamoyo_frames_folder_wise/VIDEO_00-male-surprise_20180516_091541_1754978908 (5-27-2018 5-58-50 AM)/VIDEO_00-male-surprise_20180516_091541_1754978908 099.jpg', '/media/amogh/Stuff/CMU/datasets/bagamoyo_data/bagamoyo_frames_folder_wise/VIDEO_00-male-surprise_20180516_091541_1754978908 (5-27-2018 5-58-50 AM)/VIDEO_00-male-surprise_20180516_091541_1754978908 100.jpg', '/media/amogh/Stuff/CMU/datasets/bagamoyo_data/bagamoyo_frames_folder_wise/VIDEO_00-male-surprise_20180516_091541_1754978908 (5-27-2018 5-58-50 AM)/VIDEO_00-male-surprise_20180516_091541_1754978908 101.jpg', '/media/amogh/Stuff/CMU/datasets/bagamoyo_data/bagamoyo_frames_folder_wise/VIDEO_00-male-surprise_20180516_091541_1754978908 (5-27-2018 5-58-50 AM)/VIDEO_00-male-surprise_20180516_091541_1754978908 102.jpg', '/media/amogh/Stuff/CMU/datasets/bagamoyo_data/bagamoyo_frames_folder_wise/VIDEO_00-male-surprise_20180516_091541_1754978908 (5-27-2018 5-58-50 AM)/VIDEO_00-male-surprise_20180516_091541_1754978908 103.jpg', '/media/amogh/Stuff/CMU/datasets/bagamoyo_data/bagamoyo_frames_folder_wise/VIDEO_00-male-surprise_20180516_091541_1754978908 (5-27-2018 5-58-50 AM)/VIDEO_00-male-surprise_20180516_091541_1754978908 104.jpg', '/media/amogh/Stuff/CMU/datasets/bagamoyo_data/bagamoyo_frames_folder_wise/VIDEO_00-male-surprise_20180516_091541_1754978908 (5-27-2018 5-58-50 AM)/VIDEO_00-male-surprise_20180516_091541_1754978908 105.jpg', '/media/amogh/Stuff/CMU/datasets/bagamoyo_data/bagamoyo_frames_folder_wise/VIDEO_00-male-surprise_20180516_091541_1754978908 (5-27-2018 5-58-50 AM)/VIDEO_00-male-surprise_20180516_091541_1754978908 106.jpg', '/media/amogh/Stuff/CMU/datasets/bagamoyo_data/bagamoyo_frames_folder_wise/VIDEO_00-male-surprise_20180516_091541_1754978908 (5-27-2018 5-58-50 AM)/VIDEO_00-male-surprise_20180516_091541_1754978908 107.jpg']\n"
     ]
    }
   ],
   "source": [
    "for a in glob.glob(path_folder+'/*')[:2]:\n",
    "    print glob.glob(a +'/*')"
   ]
  },
  {
   "cell_type": "code",
   "execution_count": 12,
   "metadata": {
    "scrolled": true
   },
   "outputs": [],
   "source": [
    "cnn_face_detector = dlib.cnn_face_detection_model_v1('mmod_human_face_detector.dat')"
   ]
  },
  {
   "cell_type": "code",
   "execution_count": null,
   "metadata": {},
   "outputs": [],
   "source": [
    "writeXMLForDetectedFaces()"
   ]
  }
 ],
 "metadata": {
  "kernelspec": {
   "display_name": "Python 2",
   "language": "python",
   "name": "python2"
  },
  "language_info": {
   "codemirror_mode": {
    "name": "ipython",
    "version": 2
   },
   "file_extension": ".py",
   "mimetype": "text/x-python",
   "name": "python",
   "nbconvert_exporter": "python",
   "pygments_lexer": "ipython2",
   "version": "2.7.14"
  }
 },
 "nbformat": 4,
 "nbformat_minor": 2
}
