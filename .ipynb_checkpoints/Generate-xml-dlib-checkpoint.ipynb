{
 "cells": [
  {
   "cell_type": "markdown",
   "metadata": {},
   "source": [
    "# Script to detect faces using dlib."
   ]
  },
  {
   "cell_type": "markdown",
   "metadata": {},
   "source": [
    "### Importing libraries"
   ]
  },
  {
   "cell_type": "code",
   "execution_count": 9,
   "metadata": {},
   "outputs": [],
   "source": [
    "import gc\n",
    "import os\n",
    "import sys\n",
    "import math\n",
    "import glob\n",
    "import tqdm\n",
    "import random\n",
    "import numpy as np\n",
    "from tqdm import tqdm\n",
    "from time import sleep"
   ]
  },
  {
   "cell_type": "code",
   "execution_count": 10,
   "metadata": {},
   "outputs": [],
   "source": [
    "import pandas as pd\n",
    "import xml.etree.cElementTree as ET"
   ]
  },
  {
   "cell_type": "code",
   "execution_count": 11,
   "metadata": {},
   "outputs": [],
   "source": [
    "import cv2\n",
    "import dlib\n",
    "from imutils import face_utils\n",
    "from skimage.feature import hog\n",
    "from skimage import data,exposure"
   ]
  },
  {
   "cell_type": "markdown",
   "metadata": {},
   "source": [
    "### Defining paths"
   ]
  },
  {
   "cell_type": "code",
   "execution_count": null,
   "metadata": {},
   "outputs": [],
   "source": [
    "path_folder = '/media/amogh/Stuff/CMU/datasets/bagamoyo_data/bagamoyo_frames_all_in_one'"
   ]
  },
  {
   "cell_type": "markdown",
   "metadata": {},
   "source": [
    "## Write an xml file, given the folder of images and path for detector(optional)"
   ]
  },
  {
   "cell_type": "markdown",
   "metadata": {},
   "source": [
    "### Generating an xml file"
   ]
  },
  {
   "cell_type": "code",
   "execution_count": null,
   "metadata": {},
   "outputs": [],
   "source": [
    "root = ET.Element(\"dataset\")\n",
    "name = ET.SubElement(root, \"name\").text = \"Labelled faces\"\n",
    "comment = ET.SubElement(root, \"comment\").text = \"These are labelled images from Bagamoyo\"\n",
    "images = ET.SubElement(root, \"images\")\n",
    "tree = ET.ElementTree(root)\n",
    "tree.write(\"\")"
   ]
  },
  {
   "cell_type": "code",
   "execution_count": null,
   "metadata": {},
   "outputs": [],
   "source": []
  },
  {
   "cell_type": "code",
   "execution_count": 6,
   "metadata": {},
   "outputs": [],
   "source": [
    "def writeXMLForDetectedFaces(path_folder_of_folders_of_images, path_detector = 'detector.svm', output_file_name = 'output.xml'):\n",
    "    \n",
    "    #Writing an XML\n",
    "    root = ET.Element(\"dataset\")\n",
    "    name = ET.SubElement(root, \"name\").text = \"Labelled faces\"\n",
    "    comment = ET.SubElement(root, \"comment\").text = \"These are labelled images from Bagamoyo\"\n",
    "    images = ET.SubElement(root, \"images\")\n",
    "    \n",
    "    list_folder_images = glob.glob(path_folder_of_folders_of_images)\n",
    "    print(\"Number of images found in the folder are: \", len(list_folder_images))\n",
    "    for vid_no,vid_folder in enumerate(list_folder_images):\n",
    "        list_path_frames = glob.glob(vid_folder+'/*')\n",
    "        for path_frame in list_path_frames:\n",
    "            try:\n",
    "                image=cv2.imread(path_frame)\n",
    "                gray=cv2.cvtColor(image,cv2.COLOR_BGR2GRAY)\n",
    "                rects=detector(gray,1)\n",
    "                for i,rect in enumerate(rects):\n",
    "                    shape = predictor(gray, rect)\n",
    "                    shape = face_utils.shape_to_np(shape)\n",
    "                    (x, y, w, h) = face_utils.rect_to_bb(rect)\n",
    "                    print(x,y,w,h)\n",
    "            except KeyboardInterrupt:\n",
    "                break\n",
    "            except:\n",
    "                continue\n",
    "    \n",
    "    #write XML\n",
    "    tree = ET.ElementTree(root)\n",
    "#     tree.write(\"\")\n",
    "    print(\"xml written to {}\".format(output_file_name))"
   ]
  },
  {
   "cell_type": "code",
   "execution_count": 12,
   "metadata": {
    "scrolled": true
   },
   "outputs": [],
   "source": [
    "cnn_face_detector = dlib.cnn_face_detection_model_v1('mmod_human_face_detector.dat')"
   ]
  },
  {
   "cell_type": "code",
   "execution_count": null,
   "metadata": {},
   "outputs": [],
   "source": [
    "writeXMLForDetectedFaces()"
   ]
  }
 ],
 "metadata": {
  "kernelspec": {
   "display_name": "Python 2",
   "language": "python",
   "name": "python2"
  },
  "language_info": {
   "codemirror_mode": {
    "name": "ipython",
    "version": 2
   },
   "file_extension": ".py",
   "mimetype": "text/x-python",
   "name": "python",
   "nbconvert_exporter": "python",
   "pygments_lexer": "ipython2",
   "version": "2.7.14"
  }
 },
 "nbformat": 4,
 "nbformat_minor": 2
}
