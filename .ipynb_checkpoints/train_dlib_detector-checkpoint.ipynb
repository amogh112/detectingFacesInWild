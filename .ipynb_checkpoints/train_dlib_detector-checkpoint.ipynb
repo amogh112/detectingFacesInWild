{
 "cells": [
  {
   "cell_type": "code",
   "execution_count": 70,
   "metadata": {},
   "outputs": [],
   "source": [
    "import os\n",
    "import sys\n",
    "import math\n",
    "import glob\n",
    "import tqdm\n",
    "import random\n",
    "import numpy as np\n",
    "from tqdm import tqdm\n",
    "from time import sleep\n",
    "from shutil import copy"
   ]
  },
  {
   "cell_type": "code",
   "execution_count": 71,
   "metadata": {},
   "outputs": [],
   "source": [
    "import pandas as pd\n",
    "import xml.etree.cElementTree as ET"
   ]
  },
  {
   "cell_type": "code",
   "execution_count": 72,
   "metadata": {},
   "outputs": [],
   "source": [
    "import cv2\n",
    "import dlib\n",
    "from imutils import face_utils\n",
    "from skimage.feature import hog\n",
    "from skimage import data,exposure"
   ]
  },
  {
   "cell_type": "code",
   "execution_count": 73,
   "metadata": {},
   "outputs": [],
   "source": [
    "path_folder_bagamoyo_data = '/media/amogh/Stuff/CMU/datasets/bagamoyo_data/'"
   ]
  },
  {
   "cell_type": "code",
   "execution_count": 74,
   "metadata": {},
   "outputs": [],
   "source": [
    "path_folder_subject_videos = path_folder_bagamoyo_data + 'bagamoyo_videos/subject_sorted_videos/'"
   ]
  },
  {
   "cell_type": "code",
   "execution_count": 75,
   "metadata": {},
   "outputs": [],
   "source": [
    "path_folder_framewise_videos = path_folder_bagamoyo_data + 'bagamoyo_frames_folder_wise/'"
   ]
  },
  {
   "cell_type": "code",
   "execution_count": 76,
   "metadata": {},
   "outputs": [
    {
     "data": {
      "text/plain": [
       "['/media/amogh/Stuff/CMU/datasets/bagamoyo_data/bagamoyo_videos/subject_sorted_videos/1/',\n",
       " '/media/amogh/Stuff/CMU/datasets/bagamoyo_data/bagamoyo_videos/subject_sorted_videos/10/',\n",
       " '/media/amogh/Stuff/CMU/datasets/bagamoyo_data/bagamoyo_videos/subject_sorted_videos/11/',\n",
       " '/media/amogh/Stuff/CMU/datasets/bagamoyo_data/bagamoyo_videos/subject_sorted_videos/12/',\n",
       " '/media/amogh/Stuff/CMU/datasets/bagamoyo_data/bagamoyo_videos/subject_sorted_videos/13/',\n",
       " '/media/amogh/Stuff/CMU/datasets/bagamoyo_data/bagamoyo_videos/subject_sorted_videos/2/',\n",
       " '/media/amogh/Stuff/CMU/datasets/bagamoyo_data/bagamoyo_videos/subject_sorted_videos/3/',\n",
       " '/media/amogh/Stuff/CMU/datasets/bagamoyo_data/bagamoyo_videos/subject_sorted_videos/4/',\n",
       " '/media/amogh/Stuff/CMU/datasets/bagamoyo_data/bagamoyo_videos/subject_sorted_videos/5/',\n",
       " '/media/amogh/Stuff/CMU/datasets/bagamoyo_data/bagamoyo_videos/subject_sorted_videos/6/',\n",
       " '/media/amogh/Stuff/CMU/datasets/bagamoyo_data/bagamoyo_videos/subject_sorted_videos/7/',\n",
       " '/media/amogh/Stuff/CMU/datasets/bagamoyo_data/bagamoyo_videos/subject_sorted_videos/8/',\n",
       " '/media/amogh/Stuff/CMU/datasets/bagamoyo_data/bagamoyo_videos/subject_sorted_videos/9/']"
      ]
     },
     "execution_count": 76,
     "metadata": {},
     "output_type": "execute_result"
    }
   ],
   "source": [
    "list_path_subject_folders = glob.glob(path_folder_subject_videos+'/*/')\n",
    "list_path_subject_folders"
   ]
  },
  {
   "cell_type": "code",
   "execution_count": 77,
   "metadata": {},
   "outputs": [],
   "source": [
    "path_folder_data = 'faces/'"
   ]
  },
  {
   "cell_type": "markdown",
   "metadata": {},
   "source": [
    "Subjects to use for training and testing"
   ]
  },
  {
   "cell_type": "code",
   "execution_count": 78,
   "metadata": {},
   "outputs": [],
   "source": [
    "list_training_subjects = []\n",
    "list_testing_subjects = []"
   ]
  },
  {
   "cell_type": "code",
   "execution_count": 79,
   "metadata": {},
   "outputs": [
    {
     "data": {
      "text/plain": [
       "'VIDEO_00-male-surprise_20180517_050444_456647603'"
      ]
     },
     "execution_count": 79,
     "metadata": {},
     "output_type": "execute_result"
    }
   ],
   "source": [
    "os.path.splitext(os.path.basename(glob.glob(path_folder_subject_videos+'{}/*'.format(str(3)))[0]))[0]"
   ]
  },
  {
   "cell_type": "code",
   "execution_count": 80,
   "metadata": {},
   "outputs": [],
   "source": [
    "def getPathFolderFrames(base_name_video, path_folder_frames_wise):\n",
    "    \"\"\"\n",
    "    Returns the path of the folder with frames given the name of the video.\n",
    "    Eg- VIDEO_00-male-surprise_20180517_050935_780615161 is the videlo basename\n",
    "    returns the path <path_to_bagamoyo_frames_folder_wise>/VIDEO_00-male-surprise_20180517_050935_780615161 (5-29-2018 10-05-16 AM)\n",
    "    \"\"\"\n",
    "    list_folders = glob.glob(path_folder_frames_wise + '/*')\n",
    "    path_frames_folder = ''\n",
    "    for folder in list_folders:\n",
    "        if base_name_video in folder:\n",
    "            path_frames_folder = folder\n",
    "    return path_frames_folder    "
   ]
  },
  {
   "cell_type": "code",
   "execution_count": 83,
   "metadata": {
    "scrolled": false
   },
   "outputs": [
    {
     "name": "stderr",
     "output_type": "stream",
     "text": [
      "  9%|▉         | 1/11 [00:00<00:01,  7.64it/s]"
     ]
    },
    {
     "name": "stdout",
     "output_type": "stream",
     "text": [
      "('/media/amogh/Stuff/CMU/datasets/bagamoyo_data/bagamoyo_frames_folder_wise/VIDEO_00-male-surprise_20180517_044827_472499497 (5-29-2018 10-25-16 AM)/VIDEO_00-male-surprise_20180517_044827_472499497 001.jpg', 'faces/')\n",
      "('/media/amogh/Stuff/CMU/datasets/bagamoyo_data/bagamoyo_frames_folder_wise/VIDEO_00-male-surprise_20180517_044827_472499497 (5-29-2018 10-25-16 AM)/VIDEO_00-male-surprise_20180517_044827_472499497 002.jpg', 'faces/')\n",
      "('/media/amogh/Stuff/CMU/datasets/bagamoyo_data/bagamoyo_frames_folder_wise/VIDEO_00-male-surprise_20180517_044827_472499497 (5-29-2018 10-25-16 AM)/VIDEO_00-male-surprise_20180517_044827_472499497 003.jpg', 'faces/')\n",
      "('/media/amogh/Stuff/CMU/datasets/bagamoyo_data/bagamoyo_frames_folder_wise/VIDEO_00-male-surprise_20180517_044827_472499497 (5-29-2018 10-25-16 AM)/VIDEO_00-male-surprise_20180517_044827_472499497 004.jpg', 'faces/')\n",
      "('/media/amogh/Stuff/CMU/datasets/bagamoyo_data/bagamoyo_frames_folder_wise/VIDEO_00-male-surprise_20180517_044827_472499497 (5-29-2018 10-25-16 AM)/VIDEO_00-male-surprise_20180517_044827_472499497 005.jpg', 'faces/')\n",
      "('/media/amogh/Stuff/CMU/datasets/bagamoyo_data/bagamoyo_frames_folder_wise/VIDEO_00-male-surprise_20180517_044827_472499497 (5-29-2018 10-25-16 AM)/VIDEO_00-male-surprise_20180517_044827_472499497 006.jpg', 'faces/')\n",
      "('/media/amogh/Stuff/CMU/datasets/bagamoyo_data/bagamoyo_frames_folder_wise/VIDEO_00-male-surprise_20180517_044827_472499497 (5-29-2018 10-25-16 AM)/VIDEO_00-male-surprise_20180517_044827_472499497 007.jpg', 'faces/')\n",
      "('/media/amogh/Stuff/CMU/datasets/bagamoyo_data/bagamoyo_frames_folder_wise/VIDEO_00-male-surprise_20180517_044827_472499497 (5-29-2018 10-25-16 AM)/VIDEO_00-male-surprise_20180517_044827_472499497 008.jpg', 'faces/')\n",
      "('/media/amogh/Stuff/CMU/datasets/bagamoyo_data/bagamoyo_frames_folder_wise/VIDEO_00-male-surprise_20180517_044827_472499497 (5-29-2018 10-25-16 AM)/VIDEO_00-male-surprise_20180517_044827_472499497 009.jpg', 'faces/')\n",
      "('/media/amogh/Stuff/CMU/datasets/bagamoyo_data/bagamoyo_frames_folder_wise/VIDEO_00-male-surprise_20180517_044827_472499497 (5-29-2018 10-25-16 AM)/VIDEO_00-male-surprise_20180517_044827_472499497 011.jpg', 'faces/')\n",
      "('/media/amogh/Stuff/CMU/datasets/bagamoyo_data/bagamoyo_frames_folder_wise/VIDEO_00-male-surprise_20180517_044827_472499497 (5-29-2018 10-25-16 AM)/VIDEO_00-male-surprise_20180517_044827_472499497 012.jpg', 'faces/')\n",
      "('/media/amogh/Stuff/CMU/datasets/bagamoyo_data/bagamoyo_frames_folder_wise/VIDEO_00-male-surprise_20180517_044827_472499497 (5-29-2018 10-25-16 AM)/VIDEO_00-male-surprise_20180517_044827_472499497 013.jpg', 'faces/')\n",
      "('/media/amogh/Stuff/CMU/datasets/bagamoyo_data/bagamoyo_frames_folder_wise/VIDEO_00-male-surprise_20180517_044827_472499497 (5-29-2018 10-25-16 AM)/VIDEO_00-male-surprise_20180517_044827_472499497 014.jpg', 'faces/')\n",
      "('/media/amogh/Stuff/CMU/datasets/bagamoyo_data/bagamoyo_frames_folder_wise/VIDEO_00-male-surprise_20180517_044827_472499497 (5-29-2018 10-25-16 AM)/VIDEO_00-male-surprise_20180517_044827_472499497 015.jpg', 'faces/')\n",
      "('/media/amogh/Stuff/CMU/datasets/bagamoyo_data/bagamoyo_frames_folder_wise/VIDEO_00-male-surprise_20180517_044827_472499497 (5-29-2018 10-25-16 AM)/VIDEO_00-male-surprise_20180517_044827_472499497 016.jpg', 'faces/')\n",
      "('/media/amogh/Stuff/CMU/datasets/bagamoyo_data/bagamoyo_frames_folder_wise/VIDEO_00-male-surprise_20180517_044827_472499497 (5-29-2018 10-25-16 AM)/VIDEO_00-male-surprise_20180517_044827_472499497 017.jpg', 'faces/')\n",
      "('/media/amogh/Stuff/CMU/datasets/bagamoyo_data/bagamoyo_frames_folder_wise/VIDEO_00-male-surprise_20180517_044827_472499497 (5-29-2018 10-25-16 AM)/VIDEO_00-male-surprise_20180517_044827_472499497 018.jpg', 'faces/')\n",
      "('/media/amogh/Stuff/CMU/datasets/bagamoyo_data/bagamoyo_frames_folder_wise/VIDEO_00-male-surprise_20180517_044827_472499497 (5-29-2018 10-25-16 AM)/VIDEO_00-male-surprise_20180517_044827_472499497 019.jpg', 'faces/')\n",
      "('/media/amogh/Stuff/CMU/datasets/bagamoyo_data/bagamoyo_frames_folder_wise/VIDEO_00-male-surprise_20180517_044827_472499497 (5-29-2018 10-25-16 AM)/VIDEO_00-male-surprise_20180517_044827_472499497 021.jpg', 'faces/')\n",
      "('/media/amogh/Stuff/CMU/datasets/bagamoyo_data/bagamoyo_frames_folder_wise/VIDEO_00-male-surprise_20180517_044827_472499497 (5-29-2018 10-25-16 AM)/VIDEO_00-male-surprise_20180517_044827_472499497 022.jpg', 'faces/')\n",
      "('/media/amogh/Stuff/CMU/datasets/bagamoyo_data/bagamoyo_frames_folder_wise/VIDEO_00-male-surprise_20180517_044827_472499497 (5-29-2018 10-25-16 AM)/VIDEO_00-male-surprise_20180517_044827_472499497 023.jpg', 'faces/')\n",
      "('/media/amogh/Stuff/CMU/datasets/bagamoyo_data/bagamoyo_frames_folder_wise/VIDEO_00-male-surprise_20180517_044827_472499497 (5-29-2018 10-25-16 AM)/VIDEO_00-male-surprise_20180517_044827_472499497 024.jpg', 'faces/')\n",
      "('/media/amogh/Stuff/CMU/datasets/bagamoyo_data/bagamoyo_frames_folder_wise/VIDEO_00-male-surprise_20180517_044827_472499497 (5-29-2018 10-25-16 AM)/VIDEO_00-male-surprise_20180517_044827_472499497 025.jpg', 'faces/')\n",
      "('/media/amogh/Stuff/CMU/datasets/bagamoyo_data/bagamoyo_frames_folder_wise/VIDEO_00-male-surprise_20180517_044827_472499497 (5-29-2018 10-25-16 AM)/VIDEO_00-male-surprise_20180517_044827_472499497 026.jpg', 'faces/')\n",
      "('/media/amogh/Stuff/CMU/datasets/bagamoyo_data/bagamoyo_frames_folder_wise/VIDEO_00-male-surprise_20180517_044827_472499497 (5-29-2018 10-25-16 AM)/VIDEO_00-male-surprise_20180517_044827_472499497 027.jpg', 'faces/')\n",
      "('/media/amogh/Stuff/CMU/datasets/bagamoyo_data/bagamoyo_frames_folder_wise/VIDEO_00-male-surprise_20180517_044827_472499497 (5-29-2018 10-25-16 AM)/VIDEO_00-male-surprise_20180517_044827_472499497 028.jpg', 'faces/')\n",
      "('/media/amogh/Stuff/CMU/datasets/bagamoyo_data/bagamoyo_frames_folder_wise/VIDEO_00-male-surprise_20180517_044827_472499497 (5-29-2018 10-25-16 AM)/VIDEO_00-male-surprise_20180517_044827_472499497 029.jpg', 'faces/')\n",
      "('/media/amogh/Stuff/CMU/datasets/bagamoyo_data/bagamoyo_frames_folder_wise/VIDEO_00-male-surprise_20180517_044827_472499497 (5-29-2018 10-25-16 AM)/VIDEO_00-male-surprise_20180517_044827_472499497 010.jpg', 'faces/')\n",
      "('/media/amogh/Stuff/CMU/datasets/bagamoyo_data/bagamoyo_frames_folder_wise/VIDEO_00-male-surprise_20180517_044827_472499497 (5-29-2018 10-25-16 AM)/VIDEO_00-male-surprise_20180517_044827_472499497 020.jpg', 'faces/')\n",
      "('/media/amogh/Stuff/CMU/datasets/bagamoyo_data/bagamoyo_frames_folder_wise/VIDEO_00-male-surprise_20180517_044827_472499497 (5-29-2018 10-25-16 AM)/VIDEO_00-male-surprise_20180517_044827_472499497 030.jpg', 'faces/')\n",
      "('/media/amogh/Stuff/CMU/datasets/bagamoyo_data/bagamoyo_frames_folder_wise/VIDEO_00-male-surprise_20180517_044827_472499497 (5-29-2018 10-25-16 AM)/VIDEO_00-male-surprise_20180517_044827_472499497 040.jpg', 'faces/')\n",
      "('/media/amogh/Stuff/CMU/datasets/bagamoyo_data/bagamoyo_frames_folder_wise/VIDEO_00-male-surprise_20180517_044827_472499497 (5-29-2018 10-25-16 AM)/VIDEO_00-male-surprise_20180517_044827_472499497 050.jpg', 'faces/')\n",
      "('/media/amogh/Stuff/CMU/datasets/bagamoyo_data/bagamoyo_frames_folder_wise/VIDEO_00-male-surprise_20180517_044827_472499497 (5-29-2018 10-25-16 AM)/VIDEO_00-male-surprise_20180517_044827_472499497 060.jpg', 'faces/')\n",
      "('/media/amogh/Stuff/CMU/datasets/bagamoyo_data/bagamoyo_frames_folder_wise/VIDEO_00-male-surprise_20180517_044827_472499497 (5-29-2018 10-25-16 AM)/VIDEO_00-male-surprise_20180517_044827_472499497 070.jpg', 'faces/')\n",
      "('/media/amogh/Stuff/CMU/datasets/bagamoyo_data/bagamoyo_frames_folder_wise/VIDEO_00-male-surprise_20180517_044827_472499497 (5-29-2018 10-25-16 AM)/VIDEO_00-male-surprise_20180517_044827_472499497 080.jpg', 'faces/')\n",
      "('/media/amogh/Stuff/CMU/datasets/bagamoyo_data/bagamoyo_frames_folder_wise/VIDEO_00-male-surprise_20180517_044827_472499497 (5-29-2018 10-25-16 AM)/VIDEO_00-male-surprise_20180517_044827_472499497 090.jpg', 'faces/')\n",
      "('/media/amogh/Stuff/CMU/datasets/bagamoyo_data/bagamoyo_frames_folder_wise/VIDEO_00-male-surprise_20180517_044827_472499497 (5-29-2018 10-25-16 AM)/VIDEO_00-male-surprise_20180517_044827_472499497 100.jpg', 'faces/')\n",
      "('/media/amogh/Stuff/CMU/datasets/bagamoyo_data/bagamoyo_frames_folder_wise/VIDEO_00-male-surprise_20180517_044827_472499497 (5-29-2018 10-25-16 AM)/VIDEO_00-male-surprise_20180517_044827_472499497 110.jpg', 'faces/')\n",
      "('/media/amogh/Stuff/CMU/datasets/bagamoyo_data/bagamoyo_frames_folder_wise/VIDEO_00-male-surprise_20180517_044827_472499497 (5-29-2018 10-25-16 AM)/VIDEO_00-male-surprise_20180517_044827_472499497 120.jpg', 'faces/')\n",
      "('/media/amogh/Stuff/CMU/datasets/bagamoyo_data/bagamoyo_frames_folder_wise/VIDEO_00-male-surprise_20180517_044827_472499497 (5-29-2018 10-25-16 AM)/VIDEO_00-male-surprise_20180517_044827_472499497 130.jpg', 'faces/')\n",
      "('/media/amogh/Stuff/CMU/datasets/bagamoyo_data/bagamoyo_frames_folder_wise/VIDEO_00-male-surprise_20180517_044827_472499497 (5-29-2018 10-25-16 AM)/VIDEO_00-male-surprise_20180517_044827_472499497 031.jpg', 'faces/')\n",
      "('/media/amogh/Stuff/CMU/datasets/bagamoyo_data/bagamoyo_frames_folder_wise/VIDEO_00-male-surprise_20180517_044827_472499497 (5-29-2018 10-25-16 AM)/VIDEO_00-male-surprise_20180517_044827_472499497 032.jpg', 'faces/')\n",
      "('/media/amogh/Stuff/CMU/datasets/bagamoyo_data/bagamoyo_frames_folder_wise/VIDEO_00-male-surprise_20180517_044827_472499497 (5-29-2018 10-25-16 AM)/VIDEO_00-male-surprise_20180517_044827_472499497 033.jpg', 'faces/')\n",
      "('/media/amogh/Stuff/CMU/datasets/bagamoyo_data/bagamoyo_frames_folder_wise/VIDEO_00-male-surprise_20180517_044827_472499497 (5-29-2018 10-25-16 AM)/VIDEO_00-male-surprise_20180517_044827_472499497 034.jpg', 'faces/')\n",
      "('/media/amogh/Stuff/CMU/datasets/bagamoyo_data/bagamoyo_frames_folder_wise/VIDEO_00-male-surprise_20180517_044827_472499497 (5-29-2018 10-25-16 AM)/VIDEO_00-male-surprise_20180517_044827_472499497 035.jpg', 'faces/')\n",
      "('/media/amogh/Stuff/CMU/datasets/bagamoyo_data/bagamoyo_frames_folder_wise/VIDEO_00-male-surprise_20180517_044827_472499497 (5-29-2018 10-25-16 AM)/VIDEO_00-male-surprise_20180517_044827_472499497 036.jpg', 'faces/')\n",
      "('/media/amogh/Stuff/CMU/datasets/bagamoyo_data/bagamoyo_frames_folder_wise/VIDEO_00-male-surprise_20180517_044827_472499497 (5-29-2018 10-25-16 AM)/VIDEO_00-male-surprise_20180517_044827_472499497 037.jpg', 'faces/')\n",
      "('/media/amogh/Stuff/CMU/datasets/bagamoyo_data/bagamoyo_frames_folder_wise/VIDEO_00-male-surprise_20180517_044827_472499497 (5-29-2018 10-25-16 AM)/VIDEO_00-male-surprise_20180517_044827_472499497 038.jpg', 'faces/')\n",
      "('/media/amogh/Stuff/CMU/datasets/bagamoyo_data/bagamoyo_frames_folder_wise/VIDEO_00-male-surprise_20180517_044827_472499497 (5-29-2018 10-25-16 AM)/VIDEO_00-male-surprise_20180517_044827_472499497 039.jpg', 'faces/')\n",
      "('/media/amogh/Stuff/CMU/datasets/bagamoyo_data/bagamoyo_frames_folder_wise/VIDEO_00-male-surprise_20180517_044827_472499497 (5-29-2018 10-25-16 AM)/VIDEO_00-male-surprise_20180517_044827_472499497 041.jpg', 'faces/')\n",
      "('/media/amogh/Stuff/CMU/datasets/bagamoyo_data/bagamoyo_frames_folder_wise/VIDEO_00-male-surprise_20180517_044827_472499497 (5-29-2018 10-25-16 AM)/VIDEO_00-male-surprise_20180517_044827_472499497 042.jpg', 'faces/')\n",
      "('/media/amogh/Stuff/CMU/datasets/bagamoyo_data/bagamoyo_frames_folder_wise/VIDEO_00-male-surprise_20180517_044827_472499497 (5-29-2018 10-25-16 AM)/VIDEO_00-male-surprise_20180517_044827_472499497 043.jpg', 'faces/')\n",
      "('/media/amogh/Stuff/CMU/datasets/bagamoyo_data/bagamoyo_frames_folder_wise/VIDEO_00-male-surprise_20180517_044827_472499497 (5-29-2018 10-25-16 AM)/VIDEO_00-male-surprise_20180517_044827_472499497 044.jpg', 'faces/')\n",
      "('/media/amogh/Stuff/CMU/datasets/bagamoyo_data/bagamoyo_frames_folder_wise/VIDEO_00-male-surprise_20180517_044827_472499497 (5-29-2018 10-25-16 AM)/VIDEO_00-male-surprise_20180517_044827_472499497 045.jpg', 'faces/')\n",
      "('/media/amogh/Stuff/CMU/datasets/bagamoyo_data/bagamoyo_frames_folder_wise/VIDEO_00-male-surprise_20180517_044827_472499497 (5-29-2018 10-25-16 AM)/VIDEO_00-male-surprise_20180517_044827_472499497 046.jpg', 'faces/')\n",
      "('/media/amogh/Stuff/CMU/datasets/bagamoyo_data/bagamoyo_frames_folder_wise/VIDEO_00-male-surprise_20180517_044827_472499497 (5-29-2018 10-25-16 AM)/VIDEO_00-male-surprise_20180517_044827_472499497 047.jpg', 'faces/')\n",
      "('/media/amogh/Stuff/CMU/datasets/bagamoyo_data/bagamoyo_frames_folder_wise/VIDEO_00-male-surprise_20180517_044827_472499497 (5-29-2018 10-25-16 AM)/VIDEO_00-male-surprise_20180517_044827_472499497 048.jpg', 'faces/')\n",
      "('/media/amogh/Stuff/CMU/datasets/bagamoyo_data/bagamoyo_frames_folder_wise/VIDEO_00-male-surprise_20180517_044827_472499497 (5-29-2018 10-25-16 AM)/VIDEO_00-male-surprise_20180517_044827_472499497 049.jpg', 'faces/')\n",
      "('/media/amogh/Stuff/CMU/datasets/bagamoyo_data/bagamoyo_frames_folder_wise/VIDEO_00-male-surprise_20180517_044827_472499497 (5-29-2018 10-25-16 AM)/VIDEO_00-male-surprise_20180517_044827_472499497 051.jpg', 'faces/')\n",
      "('/media/amogh/Stuff/CMU/datasets/bagamoyo_data/bagamoyo_frames_folder_wise/VIDEO_00-male-surprise_20180517_044827_472499497 (5-29-2018 10-25-16 AM)/VIDEO_00-male-surprise_20180517_044827_472499497 052.jpg', 'faces/')\n",
      "('/media/amogh/Stuff/CMU/datasets/bagamoyo_data/bagamoyo_frames_folder_wise/VIDEO_00-male-surprise_20180517_044827_472499497 (5-29-2018 10-25-16 AM)/VIDEO_00-male-surprise_20180517_044827_472499497 053.jpg', 'faces/')\n",
      "('/media/amogh/Stuff/CMU/datasets/bagamoyo_data/bagamoyo_frames_folder_wise/VIDEO_00-male-surprise_20180517_044827_472499497 (5-29-2018 10-25-16 AM)/VIDEO_00-male-surprise_20180517_044827_472499497 054.jpg', 'faces/')\n",
      "('/media/amogh/Stuff/CMU/datasets/bagamoyo_data/bagamoyo_frames_folder_wise/VIDEO_00-male-surprise_20180517_044827_472499497 (5-29-2018 10-25-16 AM)/VIDEO_00-male-surprise_20180517_044827_472499497 055.jpg', 'faces/')\n",
      "('/media/amogh/Stuff/CMU/datasets/bagamoyo_data/bagamoyo_frames_folder_wise/VIDEO_00-male-surprise_20180517_044827_472499497 (5-29-2018 10-25-16 AM)/VIDEO_00-male-surprise_20180517_044827_472499497 056.jpg', 'faces/')\n",
      "('/media/amogh/Stuff/CMU/datasets/bagamoyo_data/bagamoyo_frames_folder_wise/VIDEO_00-male-surprise_20180517_044827_472499497 (5-29-2018 10-25-16 AM)/VIDEO_00-male-surprise_20180517_044827_472499497 057.jpg', 'faces/')\n",
      "('/media/amogh/Stuff/CMU/datasets/bagamoyo_data/bagamoyo_frames_folder_wise/VIDEO_00-male-surprise_20180517_044827_472499497 (5-29-2018 10-25-16 AM)/VIDEO_00-male-surprise_20180517_044827_472499497 058.jpg', 'faces/')\n",
      "('/media/amogh/Stuff/CMU/datasets/bagamoyo_data/bagamoyo_frames_folder_wise/VIDEO_00-male-surprise_20180517_044827_472499497 (5-29-2018 10-25-16 AM)/VIDEO_00-male-surprise_20180517_044827_472499497 059.jpg', 'faces/')\n",
      "('/media/amogh/Stuff/CMU/datasets/bagamoyo_data/bagamoyo_frames_folder_wise/VIDEO_00-male-surprise_20180517_044827_472499497 (5-29-2018 10-25-16 AM)/VIDEO_00-male-surprise_20180517_044827_472499497 061.jpg', 'faces/')\n",
      "('/media/amogh/Stuff/CMU/datasets/bagamoyo_data/bagamoyo_frames_folder_wise/VIDEO_00-male-surprise_20180517_044827_472499497 (5-29-2018 10-25-16 AM)/VIDEO_00-male-surprise_20180517_044827_472499497 062.jpg', 'faces/')\n",
      "('/media/amogh/Stuff/CMU/datasets/bagamoyo_data/bagamoyo_frames_folder_wise/VIDEO_00-male-surprise_20180517_044827_472499497 (5-29-2018 10-25-16 AM)/VIDEO_00-male-surprise_20180517_044827_472499497 063.jpg', 'faces/')\n",
      "('/media/amogh/Stuff/CMU/datasets/bagamoyo_data/bagamoyo_frames_folder_wise/VIDEO_00-male-surprise_20180517_044827_472499497 (5-29-2018 10-25-16 AM)/VIDEO_00-male-surprise_20180517_044827_472499497 064.jpg', 'faces/')\n",
      "('/media/amogh/Stuff/CMU/datasets/bagamoyo_data/bagamoyo_frames_folder_wise/VIDEO_00-male-surprise_20180517_044827_472499497 (5-29-2018 10-25-16 AM)/VIDEO_00-male-surprise_20180517_044827_472499497 065.jpg', 'faces/')\n",
      "('/media/amogh/Stuff/CMU/datasets/bagamoyo_data/bagamoyo_frames_folder_wise/VIDEO_00-male-surprise_20180517_044827_472499497 (5-29-2018 10-25-16 AM)/VIDEO_00-male-surprise_20180517_044827_472499497 066.jpg', 'faces/')\n",
      "('/media/amogh/Stuff/CMU/datasets/bagamoyo_data/bagamoyo_frames_folder_wise/VIDEO_00-male-surprise_20180517_044827_472499497 (5-29-2018 10-25-16 AM)/VIDEO_00-male-surprise_20180517_044827_472499497 067.jpg', 'faces/')\n",
      "('/media/amogh/Stuff/CMU/datasets/bagamoyo_data/bagamoyo_frames_folder_wise/VIDEO_00-male-surprise_20180517_044827_472499497 (5-29-2018 10-25-16 AM)/VIDEO_00-male-surprise_20180517_044827_472499497 068.jpg', 'faces/')\n",
      "('/media/amogh/Stuff/CMU/datasets/bagamoyo_data/bagamoyo_frames_folder_wise/VIDEO_00-male-surprise_20180517_044827_472499497 (5-29-2018 10-25-16 AM)/VIDEO_00-male-surprise_20180517_044827_472499497 069.jpg', 'faces/')\n",
      "('/media/amogh/Stuff/CMU/datasets/bagamoyo_data/bagamoyo_frames_folder_wise/VIDEO_00-male-surprise_20180517_044827_472499497 (5-29-2018 10-25-16 AM)/VIDEO_00-male-surprise_20180517_044827_472499497 071.jpg', 'faces/')\n",
      "('/media/amogh/Stuff/CMU/datasets/bagamoyo_data/bagamoyo_frames_folder_wise/VIDEO_00-male-surprise_20180517_044827_472499497 (5-29-2018 10-25-16 AM)/VIDEO_00-male-surprise_20180517_044827_472499497 072.jpg', 'faces/')\n",
      "('/media/amogh/Stuff/CMU/datasets/bagamoyo_data/bagamoyo_frames_folder_wise/VIDEO_00-male-surprise_20180517_044827_472499497 (5-29-2018 10-25-16 AM)/VIDEO_00-male-surprise_20180517_044827_472499497 073.jpg', 'faces/')\n",
      "('/media/amogh/Stuff/CMU/datasets/bagamoyo_data/bagamoyo_frames_folder_wise/VIDEO_00-male-surprise_20180517_044827_472499497 (5-29-2018 10-25-16 AM)/VIDEO_00-male-surprise_20180517_044827_472499497 074.jpg', 'faces/')\n",
      "('/media/amogh/Stuff/CMU/datasets/bagamoyo_data/bagamoyo_frames_folder_wise/VIDEO_00-male-surprise_20180517_044827_472499497 (5-29-2018 10-25-16 AM)/VIDEO_00-male-surprise_20180517_044827_472499497 075.jpg', 'faces/')\n",
      "('/media/amogh/Stuff/CMU/datasets/bagamoyo_data/bagamoyo_frames_folder_wise/VIDEO_00-male-surprise_20180517_044827_472499497 (5-29-2018 10-25-16 AM)/VIDEO_00-male-surprise_20180517_044827_472499497 076.jpg', 'faces/')\n",
      "('/media/amogh/Stuff/CMU/datasets/bagamoyo_data/bagamoyo_frames_folder_wise/VIDEO_00-male-surprise_20180517_044827_472499497 (5-29-2018 10-25-16 AM)/VIDEO_00-male-surprise_20180517_044827_472499497 077.jpg', 'faces/')\n",
      "('/media/amogh/Stuff/CMU/datasets/bagamoyo_data/bagamoyo_frames_folder_wise/VIDEO_00-male-surprise_20180517_044827_472499497 (5-29-2018 10-25-16 AM)/VIDEO_00-male-surprise_20180517_044827_472499497 078.jpg', 'faces/')\n",
      "('/media/amogh/Stuff/CMU/datasets/bagamoyo_data/bagamoyo_frames_folder_wise/VIDEO_00-male-surprise_20180517_044827_472499497 (5-29-2018 10-25-16 AM)/VIDEO_00-male-surprise_20180517_044827_472499497 079.jpg', 'faces/')\n",
      "('/media/amogh/Stuff/CMU/datasets/bagamoyo_data/bagamoyo_frames_folder_wise/VIDEO_00-male-surprise_20180517_044827_472499497 (5-29-2018 10-25-16 AM)/VIDEO_00-male-surprise_20180517_044827_472499497 081.jpg', 'faces/')\n",
      "('/media/amogh/Stuff/CMU/datasets/bagamoyo_data/bagamoyo_frames_folder_wise/VIDEO_00-male-surprise_20180517_044827_472499497 (5-29-2018 10-25-16 AM)/VIDEO_00-male-surprise_20180517_044827_472499497 082.jpg', 'faces/')\n",
      "('/media/amogh/Stuff/CMU/datasets/bagamoyo_data/bagamoyo_frames_folder_wise/VIDEO_00-male-surprise_20180517_044827_472499497 (5-29-2018 10-25-16 AM)/VIDEO_00-male-surprise_20180517_044827_472499497 083.jpg', 'faces/')\n",
      "('/media/amogh/Stuff/CMU/datasets/bagamoyo_data/bagamoyo_frames_folder_wise/VIDEO_00-male-surprise_20180517_044827_472499497 (5-29-2018 10-25-16 AM)/VIDEO_00-male-surprise_20180517_044827_472499497 084.jpg', 'faces/')\n",
      "('/media/amogh/Stuff/CMU/datasets/bagamoyo_data/bagamoyo_frames_folder_wise/VIDEO_00-male-surprise_20180517_044827_472499497 (5-29-2018 10-25-16 AM)/VIDEO_00-male-surprise_20180517_044827_472499497 085.jpg', 'faces/')\n",
      "('/media/amogh/Stuff/CMU/datasets/bagamoyo_data/bagamoyo_frames_folder_wise/VIDEO_00-male-surprise_20180517_044827_472499497 (5-29-2018 10-25-16 AM)/VIDEO_00-male-surprise_20180517_044827_472499497 086.jpg', 'faces/')\n",
      "('/media/amogh/Stuff/CMU/datasets/bagamoyo_data/bagamoyo_frames_folder_wise/VIDEO_00-male-surprise_20180517_044827_472499497 (5-29-2018 10-25-16 AM)/VIDEO_00-male-surprise_20180517_044827_472499497 087.jpg', 'faces/')\n",
      "('/media/amogh/Stuff/CMU/datasets/bagamoyo_data/bagamoyo_frames_folder_wise/VIDEO_00-male-surprise_20180517_044827_472499497 (5-29-2018 10-25-16 AM)/VIDEO_00-male-surprise_20180517_044827_472499497 088.jpg', 'faces/')\n",
      "('/media/amogh/Stuff/CMU/datasets/bagamoyo_data/bagamoyo_frames_folder_wise/VIDEO_00-male-surprise_20180517_044827_472499497 (5-29-2018 10-25-16 AM)/VIDEO_00-male-surprise_20180517_044827_472499497 089.jpg', 'faces/')\n",
      "('/media/amogh/Stuff/CMU/datasets/bagamoyo_data/bagamoyo_frames_folder_wise/VIDEO_00-male-surprise_20180517_044827_472499497 (5-29-2018 10-25-16 AM)/VIDEO_00-male-surprise_20180517_044827_472499497 091.jpg', 'faces/')\n",
      "('/media/amogh/Stuff/CMU/datasets/bagamoyo_data/bagamoyo_frames_folder_wise/VIDEO_00-male-surprise_20180517_044827_472499497 (5-29-2018 10-25-16 AM)/VIDEO_00-male-surprise_20180517_044827_472499497 092.jpg', 'faces/')\n",
      "('/media/amogh/Stuff/CMU/datasets/bagamoyo_data/bagamoyo_frames_folder_wise/VIDEO_00-male-surprise_20180517_044827_472499497 (5-29-2018 10-25-16 AM)/VIDEO_00-male-surprise_20180517_044827_472499497 093.jpg', 'faces/')\n",
      "('/media/amogh/Stuff/CMU/datasets/bagamoyo_data/bagamoyo_frames_folder_wise/VIDEO_00-male-surprise_20180517_044827_472499497 (5-29-2018 10-25-16 AM)/VIDEO_00-male-surprise_20180517_044827_472499497 094.jpg', 'faces/')\n",
      "('/media/amogh/Stuff/CMU/datasets/bagamoyo_data/bagamoyo_frames_folder_wise/VIDEO_00-male-surprise_20180517_044827_472499497 (5-29-2018 10-25-16 AM)/VIDEO_00-male-surprise_20180517_044827_472499497 095.jpg', 'faces/')\n",
      "('/media/amogh/Stuff/CMU/datasets/bagamoyo_data/bagamoyo_frames_folder_wise/VIDEO_00-male-surprise_20180517_044827_472499497 (5-29-2018 10-25-16 AM)/VIDEO_00-male-surprise_20180517_044827_472499497 096.jpg', 'faces/')\n",
      "('/media/amogh/Stuff/CMU/datasets/bagamoyo_data/bagamoyo_frames_folder_wise/VIDEO_00-male-surprise_20180517_044827_472499497 (5-29-2018 10-25-16 AM)/VIDEO_00-male-surprise_20180517_044827_472499497 097.jpg', 'faces/')\n",
      "('/media/amogh/Stuff/CMU/datasets/bagamoyo_data/bagamoyo_frames_folder_wise/VIDEO_00-male-surprise_20180517_044827_472499497 (5-29-2018 10-25-16 AM)/VIDEO_00-male-surprise_20180517_044827_472499497 098.jpg', 'faces/')\n",
      "('/media/amogh/Stuff/CMU/datasets/bagamoyo_data/bagamoyo_frames_folder_wise/VIDEO_00-male-surprise_20180517_044827_472499497 (5-29-2018 10-25-16 AM)/VIDEO_00-male-surprise_20180517_044827_472499497 099.jpg', 'faces/')\n",
      "('/media/amogh/Stuff/CMU/datasets/bagamoyo_data/bagamoyo_frames_folder_wise/VIDEO_00-male-surprise_20180517_044827_472499497 (5-29-2018 10-25-16 AM)/VIDEO_00-male-surprise_20180517_044827_472499497 101.jpg', 'faces/')\n",
      "('/media/amogh/Stuff/CMU/datasets/bagamoyo_data/bagamoyo_frames_folder_wise/VIDEO_00-male-surprise_20180517_044827_472499497 (5-29-2018 10-25-16 AM)/VIDEO_00-male-surprise_20180517_044827_472499497 102.jpg', 'faces/')\n",
      "('/media/amogh/Stuff/CMU/datasets/bagamoyo_data/bagamoyo_frames_folder_wise/VIDEO_00-male-surprise_20180517_044827_472499497 (5-29-2018 10-25-16 AM)/VIDEO_00-male-surprise_20180517_044827_472499497 103.jpg', 'faces/')\n",
      "('/media/amogh/Stuff/CMU/datasets/bagamoyo_data/bagamoyo_frames_folder_wise/VIDEO_00-male-surprise_20180517_044827_472499497 (5-29-2018 10-25-16 AM)/VIDEO_00-male-surprise_20180517_044827_472499497 104.jpg', 'faces/')\n",
      "('/media/amogh/Stuff/CMU/datasets/bagamoyo_data/bagamoyo_frames_folder_wise/VIDEO_00-male-surprise_20180517_044827_472499497 (5-29-2018 10-25-16 AM)/VIDEO_00-male-surprise_20180517_044827_472499497 105.jpg', 'faces/')\n",
      "('/media/amogh/Stuff/CMU/datasets/bagamoyo_data/bagamoyo_frames_folder_wise/VIDEO_00-male-surprise_20180517_044827_472499497 (5-29-2018 10-25-16 AM)/VIDEO_00-male-surprise_20180517_044827_472499497 106.jpg', 'faces/')\n",
      "('/media/amogh/Stuff/CMU/datasets/bagamoyo_data/bagamoyo_frames_folder_wise/VIDEO_00-male-surprise_20180517_044827_472499497 (5-29-2018 10-25-16 AM)/VIDEO_00-male-surprise_20180517_044827_472499497 107.jpg', 'faces/')\n",
      "('/media/amogh/Stuff/CMU/datasets/bagamoyo_data/bagamoyo_frames_folder_wise/VIDEO_00-male-surprise_20180517_044827_472499497 (5-29-2018 10-25-16 AM)/VIDEO_00-male-surprise_20180517_044827_472499497 108.jpg', 'faces/')\n",
      "('/media/amogh/Stuff/CMU/datasets/bagamoyo_data/bagamoyo_frames_folder_wise/VIDEO_00-male-surprise_20180517_044827_472499497 (5-29-2018 10-25-16 AM)/VIDEO_00-male-surprise_20180517_044827_472499497 109.jpg', 'faces/')\n",
      "('/media/amogh/Stuff/CMU/datasets/bagamoyo_data/bagamoyo_frames_folder_wise/VIDEO_00-male-surprise_20180517_044827_472499497 (5-29-2018 10-25-16 AM)/VIDEO_00-male-surprise_20180517_044827_472499497 111.jpg', 'faces/')\n",
      "('/media/amogh/Stuff/CMU/datasets/bagamoyo_data/bagamoyo_frames_folder_wise/VIDEO_00-male-surprise_20180517_044827_472499497 (5-29-2018 10-25-16 AM)/VIDEO_00-male-surprise_20180517_044827_472499497 112.jpg', 'faces/')\n",
      "('/media/amogh/Stuff/CMU/datasets/bagamoyo_data/bagamoyo_frames_folder_wise/VIDEO_00-male-surprise_20180517_044827_472499497 (5-29-2018 10-25-16 AM)/VIDEO_00-male-surprise_20180517_044827_472499497 113.jpg', 'faces/')\n",
      "('/media/amogh/Stuff/CMU/datasets/bagamoyo_data/bagamoyo_frames_folder_wise/VIDEO_00-male-surprise_20180517_044827_472499497 (5-29-2018 10-25-16 AM)/VIDEO_00-male-surprise_20180517_044827_472499497 114.jpg', 'faces/')\n",
      "('/media/amogh/Stuff/CMU/datasets/bagamoyo_data/bagamoyo_frames_folder_wise/VIDEO_00-male-surprise_20180517_044827_472499497 (5-29-2018 10-25-16 AM)/VIDEO_00-male-surprise_20180517_044827_472499497 115.jpg', 'faces/')\n",
      "('/media/amogh/Stuff/CMU/datasets/bagamoyo_data/bagamoyo_frames_folder_wise/VIDEO_00-male-surprise_20180517_044827_472499497 (5-29-2018 10-25-16 AM)/VIDEO_00-male-surprise_20180517_044827_472499497 116.jpg', 'faces/')\n",
      "('/media/amogh/Stuff/CMU/datasets/bagamoyo_data/bagamoyo_frames_folder_wise/VIDEO_00-male-surprise_20180517_044827_472499497 (5-29-2018 10-25-16 AM)/VIDEO_00-male-surprise_20180517_044827_472499497 117.jpg', 'faces/')\n",
      "('/media/amogh/Stuff/CMU/datasets/bagamoyo_data/bagamoyo_frames_folder_wise/VIDEO_00-male-surprise_20180517_044827_472499497 (5-29-2018 10-25-16 AM)/VIDEO_00-male-surprise_20180517_044827_472499497 118.jpg', 'faces/')\n",
      "('/media/amogh/Stuff/CMU/datasets/bagamoyo_data/bagamoyo_frames_folder_wise/VIDEO_00-male-surprise_20180517_044827_472499497 (5-29-2018 10-25-16 AM)/VIDEO_00-male-surprise_20180517_044827_472499497 119.jpg', 'faces/')\n",
      "('/media/amogh/Stuff/CMU/datasets/bagamoyo_data/bagamoyo_frames_folder_wise/VIDEO_00-male-surprise_20180517_044827_472499497 (5-29-2018 10-25-16 AM)/VIDEO_00-male-surprise_20180517_044827_472499497 121.jpg', 'faces/')\n",
      "('/media/amogh/Stuff/CMU/datasets/bagamoyo_data/bagamoyo_frames_folder_wise/VIDEO_00-male-surprise_20180517_044827_472499497 (5-29-2018 10-25-16 AM)/VIDEO_00-male-surprise_20180517_044827_472499497 122.jpg', 'faces/')\n",
      "('/media/amogh/Stuff/CMU/datasets/bagamoyo_data/bagamoyo_frames_folder_wise/VIDEO_00-male-surprise_20180517_044827_472499497 (5-29-2018 10-25-16 AM)/VIDEO_00-male-surprise_20180517_044827_472499497 123.jpg', 'faces/')\n",
      "('/media/amogh/Stuff/CMU/datasets/bagamoyo_data/bagamoyo_frames_folder_wise/VIDEO_00-male-surprise_20180517_044827_472499497 (5-29-2018 10-25-16 AM)/VIDEO_00-male-surprise_20180517_044827_472499497 124.jpg', 'faces/')\n",
      "('/media/amogh/Stuff/CMU/datasets/bagamoyo_data/bagamoyo_frames_folder_wise/VIDEO_00-male-surprise_20180517_044827_472499497 (5-29-2018 10-25-16 AM)/VIDEO_00-male-surprise_20180517_044827_472499497 125.jpg', 'faces/')\n",
      "('/media/amogh/Stuff/CMU/datasets/bagamoyo_data/bagamoyo_frames_folder_wise/VIDEO_00-male-surprise_20180517_044827_472499497 (5-29-2018 10-25-16 AM)/VIDEO_00-male-surprise_20180517_044827_472499497 126.jpg', 'faces/')\n",
      "('/media/amogh/Stuff/CMU/datasets/bagamoyo_data/bagamoyo_frames_folder_wise/VIDEO_00-male-surprise_20180517_044827_472499497 (5-29-2018 10-25-16 AM)/VIDEO_00-male-surprise_20180517_044827_472499497 127.jpg', 'faces/')\n",
      "('/media/amogh/Stuff/CMU/datasets/bagamoyo_data/bagamoyo_frames_folder_wise/VIDEO_00-male-surprise_20180517_044827_472499497 (5-29-2018 10-25-16 AM)/VIDEO_00-male-surprise_20180517_044827_472499497 128.jpg', 'faces/')\n",
      "('/media/amogh/Stuff/CMU/datasets/bagamoyo_data/bagamoyo_frames_folder_wise/VIDEO_00-male-surprise_20180517_044827_472499497 (5-29-2018 10-25-16 AM)/VIDEO_00-male-surprise_20180517_044827_472499497 129.jpg', 'faces/')\n",
      "('/media/amogh/Stuff/CMU/datasets/bagamoyo_data/bagamoyo_frames_folder_wise/VIDEO_00-male-surprise_20180517_044827_472499497 (5-29-2018 10-25-16 AM)/VIDEO_00-male-surprise_20180517_044827_472499497 131.jpg', 'faces/')\n",
      "('/media/amogh/Stuff/CMU/datasets/bagamoyo_data/bagamoyo_frames_folder_wise/VIDEO_00-male-surprise_20180517_044827_472499497 (5-29-2018 10-25-16 AM)/VIDEO_00-male-surprise_20180517_044827_472499497 132.jpg', 'faces/')\n",
      "('/media/amogh/Stuff/CMU/datasets/bagamoyo_data/bagamoyo_frames_folder_wise/VIDEO_00-male-surprise_20180517_044827_472499497 (5-29-2018 10-25-16 AM)/VIDEO_00-male-surprise_20180517_044827_472499497 133.jpg', 'faces/')\n",
      "('/media/amogh/Stuff/CMU/datasets/bagamoyo_data/bagamoyo_frames_folder_wise/VIDEO_00-male-surprise_20180517_044827_472499497 (5-29-2018 10-25-16 AM)/VIDEO_00-male-surprise_20180517_044827_472499497 134.jpg', 'faces/')\n",
      "('/media/amogh/Stuff/CMU/datasets/bagamoyo_data/bagamoyo_frames_folder_wise/VIDEO_00-male-surprise_20180517_044827_472499497 (5-29-2018 10-25-16 AM)/VIDEO_00-male-surprise_20180517_044827_472499497 135.jpg', 'faces/')\n",
      "('/media/amogh/Stuff/CMU/datasets/bagamoyo_data/bagamoyo_frames_folder_wise/VIDEO_00-male-surprise_20180517_044827_472499497 (5-29-2018 10-25-16 AM)/VIDEO_00-male-surprise_20180517_044827_472499497 136.jpg', 'faces/')\n",
      "('/media/amogh/Stuff/CMU/datasets/bagamoyo_data/bagamoyo_frames_folder_wise/VIDEO_00-male-surprise_20180517_044827_472499497 (5-29-2018 10-25-16 AM)/VIDEO_00-male-surprise_20180517_044827_472499497 137.jpg', 'faces/')\n",
      "('/media/amogh/Stuff/CMU/datasets/bagamoyo_data/bagamoyo_frames_folder_wise/VIDEO_00-male-surprise_20180517_044827_472499497 (5-29-2018 10-25-16 AM)/VIDEO_00-male-surprise_20180517_044827_472499497 138.jpg', 'faces/')\n",
      "('/media/amogh/Stuff/CMU/datasets/bagamoyo_data/bagamoyo_frames_folder_wise/VIDEO_00-male-surprise_20180517_044827_472499497 (5-29-2018 10-25-16 AM)/VIDEO_00-male-surprise_20180517_044827_472499497 139.jpg', 'faces/')\n",
      "('/media/amogh/Stuff/CMU/datasets/bagamoyo_data/bagamoyo_frames_folder_wise/VIDEO_00-male-surprise_20180517_044827_472499497 (5-29-2018 10-25-16 AM)/VIDEO_00-male-surprise_20180517_044827_472499497 140.jpg', 'faces/')\n",
      "('/media/amogh/Stuff/CMU/datasets/bagamoyo_data/bagamoyo_frames_folder_wise/VIDEO_00-male-surprise_20180517_044827_472499497 (5-29-2018 10-25-16 AM)/VIDEO_00-male-surprise_20180517_044827_472499497 141.jpg', 'faces/')\n",
      "('/media/amogh/Stuff/CMU/datasets/bagamoyo_data/bagamoyo_frames_folder_wise/VIDEO_00-male-surprise_20180517_044827_472499497 (5-29-2018 10-25-16 AM)/VIDEO_00-male-surprise_20180517_044827_472499497 142.jpg', 'faces/')\n",
      "('/media/amogh/Stuff/CMU/datasets/bagamoyo_data/bagamoyo_frames_folder_wise/VIDEO_00-male-surprise_20180517_044827_472499497 (5-29-2018 10-25-16 AM)/VIDEO_00-male-surprise_20180517_044827_472499497 143.jpg', 'faces/')\n",
      "('/media/amogh/Stuff/CMU/datasets/bagamoyo_data/bagamoyo_frames_folder_wise/VIDEO_00-male-surprise_20180517_044827_472499497 (5-29-2018 10-25-16 AM)/VIDEO_00-male-surprise_20180517_044827_472499497 144.jpg', 'faces/')\n",
      "('/media/amogh/Stuff/CMU/datasets/bagamoyo_data/bagamoyo_frames_folder_wise/VIDEO_00-male-surprise_20180517_044827_472499497 (5-29-2018 10-25-16 AM)/VIDEO_00-male-surprise_20180517_044827_472499497 145.jpg', 'faces/')\n",
      "('/media/amogh/Stuff/CMU/datasets/bagamoyo_data/bagamoyo_frames_folder_wise/VIDEO_00-male-surprise_20180517_044827_472499497 (5-29-2018 10-25-16 AM)/VIDEO_00-male-surprise_20180517_044827_472499497 146.jpg', 'faces/')\n",
      "('/media/amogh/Stuff/CMU/datasets/bagamoyo_data/bagamoyo_frames_folder_wise/VIDEO_00-male-surprise_20180517_044827_472499497 (5-29-2018 10-25-16 AM)/VIDEO_00-male-surprise_20180517_044827_472499497 147.jpg', 'faces/')\n",
      "('/media/amogh/Stuff/CMU/datasets/bagamoyo_data/bagamoyo_frames_folder_wise/VIDEO_00-male-surprise_20180517_044827_472499497 (5-29-2018 10-25-16 AM)/VIDEO_00-male-surprise_20180517_044827_472499497 148.jpg', 'faces/')\n",
      "('/media/amogh/Stuff/CMU/datasets/bagamoyo_data/bagamoyo_frames_folder_wise/VIDEO_00-male-surprise_20180517_044827_472499497 (5-29-2018 10-25-16 AM)/VIDEO_00-male-surprise_20180517_044827_472499497 149.jpg', 'faces/')\n",
      "('/media/amogh/Stuff/CMU/datasets/bagamoyo_data/bagamoyo_frames_folder_wise/VIDEO_00-male-surprise_20180517_044827_472499497 (5-29-2018 10-25-16 AM)/VIDEO_00-male-surprise_20180517_044827_472499497 150.jpg', 'faces/')\n",
      "('/dev', 'faces/')\n"
     ]
    },
    {
     "name": "stderr",
     "output_type": "stream",
     "text": [
      "Exception KeyError: KeyError(<weakref at 0x7f2d13cf1628; to 'tqdm' at 0x7f2d13de5690>,) in <object repr() failed> ignored\n"
     ]
    },
    {
     "ename": "IOError",
     "evalue": "[Errno 21] Is a directory: '/dev'",
     "output_type": "error",
     "traceback": [
      "\u001b[0;31m---------------------------------------------------------------------------\u001b[0m",
      "\u001b[0;31mIOError\u001b[0m                                   Traceback (most recent call last)",
      "\u001b[0;32m<ipython-input-83-8e80e1518f40>\u001b[0m in \u001b[0;36m<module>\u001b[0;34m()\u001b[0m\n\u001b[1;32m     14\u001b[0m                 \u001b[0;32mprint\u001b[0m\u001b[0;34m(\u001b[0m\u001b[0mpath_frame\u001b[0m\u001b[0;34m,\u001b[0m \u001b[0mpath_folder_data\u001b[0m\u001b[0;34m)\u001b[0m\u001b[0;34m\u001b[0m\u001b[0m\n\u001b[1;32m     15\u001b[0m                 \u001b[0mcopy\u001b[0m\u001b[0;34m(\u001b[0m\u001b[0mpath_frame\u001b[0m\u001b[0;34m,\u001b[0m \u001b[0mpath_folder_data\u001b[0m\u001b[0;34m)\u001b[0m\u001b[0;34m\u001b[0m\u001b[0m\n\u001b[0;32m---> 16\u001b[0;31m \u001b[0mgenerateTrainTestData\u001b[0m\u001b[0;34m(\u001b[0m\u001b[0;34m[\u001b[0m\u001b[0;36m7\u001b[0m\u001b[0;34m,\u001b[0m\u001b[0;36m8\u001b[0m\u001b[0;34m,\u001b[0m\u001b[0;36m9\u001b[0m\u001b[0;34m]\u001b[0m\u001b[0;34m)\u001b[0m\u001b[0;34m\u001b[0m\u001b[0m\n\u001b[0m",
      "\u001b[0;32m<ipython-input-83-8e80e1518f40>\u001b[0m in \u001b[0;36mgenerateTrainTestData\u001b[0;34m(list_train_test_subjects)\u001b[0m\n\u001b[1;32m     13\u001b[0m             \u001b[0;32mfor\u001b[0m \u001b[0mpath_frame\u001b[0m \u001b[0;32min\u001b[0m \u001b[0mlist_path_frames\u001b[0m\u001b[0;34m:\u001b[0m\u001b[0;34m\u001b[0m\u001b[0m\n\u001b[1;32m     14\u001b[0m                 \u001b[0;32mprint\u001b[0m\u001b[0;34m(\u001b[0m\u001b[0mpath_frame\u001b[0m\u001b[0;34m,\u001b[0m \u001b[0mpath_folder_data\u001b[0m\u001b[0;34m)\u001b[0m\u001b[0;34m\u001b[0m\u001b[0m\n\u001b[0;32m---> 15\u001b[0;31m                 \u001b[0mcopy\u001b[0m\u001b[0;34m(\u001b[0m\u001b[0mpath_frame\u001b[0m\u001b[0;34m,\u001b[0m \u001b[0mpath_folder_data\u001b[0m\u001b[0;34m)\u001b[0m\u001b[0;34m\u001b[0m\u001b[0m\n\u001b[0m\u001b[1;32m     16\u001b[0m \u001b[0mgenerateTrainTestData\u001b[0m\u001b[0;34m(\u001b[0m\u001b[0;34m[\u001b[0m\u001b[0;36m7\u001b[0m\u001b[0;34m,\u001b[0m\u001b[0;36m8\u001b[0m\u001b[0;34m,\u001b[0m\u001b[0;36m9\u001b[0m\u001b[0;34m]\u001b[0m\u001b[0;34m)\u001b[0m\u001b[0;34m\u001b[0m\u001b[0m\n",
      "\u001b[0;32m/home/amogh/anaconda3/envs/detect_face/lib/python2.7/shutil.pyc\u001b[0m in \u001b[0;36mcopy\u001b[0;34m(src, dst)\u001b[0m\n\u001b[1;32m    131\u001b[0m     \u001b[0;32mif\u001b[0m \u001b[0mos\u001b[0m\u001b[0;34m.\u001b[0m\u001b[0mpath\u001b[0m\u001b[0;34m.\u001b[0m\u001b[0misdir\u001b[0m\u001b[0;34m(\u001b[0m\u001b[0mdst\u001b[0m\u001b[0;34m)\u001b[0m\u001b[0;34m:\u001b[0m\u001b[0;34m\u001b[0m\u001b[0m\n\u001b[1;32m    132\u001b[0m         \u001b[0mdst\u001b[0m \u001b[0;34m=\u001b[0m \u001b[0mos\u001b[0m\u001b[0;34m.\u001b[0m\u001b[0mpath\u001b[0m\u001b[0;34m.\u001b[0m\u001b[0mjoin\u001b[0m\u001b[0;34m(\u001b[0m\u001b[0mdst\u001b[0m\u001b[0;34m,\u001b[0m \u001b[0mos\u001b[0m\u001b[0;34m.\u001b[0m\u001b[0mpath\u001b[0m\u001b[0;34m.\u001b[0m\u001b[0mbasename\u001b[0m\u001b[0;34m(\u001b[0m\u001b[0msrc\u001b[0m\u001b[0;34m)\u001b[0m\u001b[0;34m)\u001b[0m\u001b[0;34m\u001b[0m\u001b[0m\n\u001b[0;32m--> 133\u001b[0;31m     \u001b[0mcopyfile\u001b[0m\u001b[0;34m(\u001b[0m\u001b[0msrc\u001b[0m\u001b[0;34m,\u001b[0m \u001b[0mdst\u001b[0m\u001b[0;34m)\u001b[0m\u001b[0;34m\u001b[0m\u001b[0m\n\u001b[0m\u001b[1;32m    134\u001b[0m     \u001b[0mcopymode\u001b[0m\u001b[0;34m(\u001b[0m\u001b[0msrc\u001b[0m\u001b[0;34m,\u001b[0m \u001b[0mdst\u001b[0m\u001b[0;34m)\u001b[0m\u001b[0;34m\u001b[0m\u001b[0m\n\u001b[1;32m    135\u001b[0m \u001b[0;34m\u001b[0m\u001b[0m\n",
      "\u001b[0;32m/home/amogh/anaconda3/envs/detect_face/lib/python2.7/shutil.pyc\u001b[0m in \u001b[0;36mcopyfile\u001b[0;34m(src, dst)\u001b[0m\n\u001b[1;32m     94\u001b[0m                 \u001b[0;32mraise\u001b[0m \u001b[0mSpecialFileError\u001b[0m\u001b[0;34m(\u001b[0m\u001b[0;34m\"`%s` is a named pipe\"\u001b[0m \u001b[0;34m%\u001b[0m \u001b[0mfn\u001b[0m\u001b[0;34m)\u001b[0m\u001b[0;34m\u001b[0m\u001b[0m\n\u001b[1;32m     95\u001b[0m \u001b[0;34m\u001b[0m\u001b[0m\n\u001b[0;32m---> 96\u001b[0;31m     \u001b[0;32mwith\u001b[0m \u001b[0mopen\u001b[0m\u001b[0;34m(\u001b[0m\u001b[0msrc\u001b[0m\u001b[0;34m,\u001b[0m \u001b[0;34m'rb'\u001b[0m\u001b[0;34m)\u001b[0m \u001b[0;32mas\u001b[0m \u001b[0mfsrc\u001b[0m\u001b[0;34m:\u001b[0m\u001b[0;34m\u001b[0m\u001b[0m\n\u001b[0m\u001b[1;32m     97\u001b[0m         \u001b[0;32mwith\u001b[0m \u001b[0mopen\u001b[0m\u001b[0;34m(\u001b[0m\u001b[0mdst\u001b[0m\u001b[0;34m,\u001b[0m \u001b[0;34m'wb'\u001b[0m\u001b[0;34m)\u001b[0m \u001b[0;32mas\u001b[0m \u001b[0mfdst\u001b[0m\u001b[0;34m:\u001b[0m\u001b[0;34m\u001b[0m\u001b[0m\n\u001b[1;32m     98\u001b[0m             \u001b[0mcopyfileobj\u001b[0m\u001b[0;34m(\u001b[0m\u001b[0mfsrc\u001b[0m\u001b[0;34m,\u001b[0m \u001b[0mfdst\u001b[0m\u001b[0;34m)\u001b[0m\u001b[0;34m\u001b[0m\u001b[0m\n",
      "\u001b[0;31mIOError\u001b[0m: [Errno 21] Is a directory: '/dev'"
     ]
    }
   ],
   "source": [
    "def generateTrainTestData(list_train_test_subjects):\n",
    "    \"\"\"\n",
    "    Copies the images from the train and test folders in the faces folder.\n",
    "    \"\"\"\n",
    "    for subject_num in list_train_test_subjects:\n",
    "        path_subject_videos = path_folder_subject_videos + str(subject_num) +'/'\n",
    "        list_subject_videos = glob.glob(path_subject_videos + '/*')\n",
    "        #get images from the relevant folder images and save in faces\n",
    "        for video in tqdm(list_subject_videos):\n",
    "            basename_folder_video = os.path.splitext(os.path.basename(video))[0]\n",
    "            path_folder_frames = getPathFolderFrames(basename_folder_video,path_folder_framewise_videos)\n",
    "            list_path_frames = glob.glob(path_folder_frames + '/*')\n",
    "            for path_frame in list_path_frames:\n",
    "                print(path_frame, path_folder_data)\n",
    "                copy(path_frame, path_folder_data)\n",
    "generateTrainTestData([7,8,9])"
   ]
  },
  {
   "cell_type": "code",
   "execution_count": null,
   "metadata": {},
   "outputs": [],
   "source": []
  }
 ],
 "metadata": {
  "kernelspec": {
   "display_name": "Python 2",
   "language": "python",
   "name": "python2"
  },
  "language_info": {
   "codemirror_mode": {
    "name": "ipython",
    "version": 2
   },
   "file_extension": ".py",
   "mimetype": "text/x-python",
   "name": "python",
   "nbconvert_exporter": "python",
   "pygments_lexer": "ipython2",
   "version": "2.7.14"
  }
 },
 "nbformat": 4,
 "nbformat_minor": 2
}
